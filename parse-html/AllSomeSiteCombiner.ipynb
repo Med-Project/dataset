{
 "cells": [
  {
   "cell_type": "code",
   "execution_count": 1,
   "metadata": {},
   "outputs": [],
   "source": [
    "import re,requests\n",
    "from tqdm import tqdm\n",
    "import pandas as pd\n",
    "from bs4 import BeautifulSoup\n",
    "from nltk.corpus import stopwords\n",
    "\n",
    "from os import listdir\n",
    "from os.path import isfile, join"
   ]
  },
  {
   "cell_type": "code",
   "execution_count": 2,
   "metadata": {},
   "outputs": [],
   "source": [
    "s = requests.Session()\n",
    "bolezni = pd.read_csv('bolezni.csv')\n",
    "# bolezni['name']"
   ]
  },
  {
   "cell_type": "code",
   "execution_count": 3,
   "metadata": {},
   "outputs": [],
   "source": [
    "\n",
    "bolezni_24farm = pd.read_csv('bolezni_24farm.csv')\n",
    "bolezni_likar = pd.read_csv('bolezni_likar.csv')\n",
    "bolezni_lookmedbook = pd.read_csv('bolezni_lookmedbook.csv')\n",
    "bolezni_medicina = pd.read_csv('bolezni_medicina.csv')\n",
    "bolezni_prostodoctor = pd.read_csv('bolezni_prostodoctor.csv')\n",
    "bolezni_zdorovieinfo = pd.read_csv('bolezni_zdorovieinfo.csv')\n",
    "bolezni_eurolab = pd.read_csv('bolezni_eurolab.csv')\n"
   ]
  },
  {
   "cell_type": "code",
   "execution_count": 6,
   "metadata": {},
   "outputs": [],
   "source": [
    "d = {}\n",
    "notFound = {}\n",
    "for i in range (len(bolezni['descr'])):\n",
    "    temp = checker(bolezni['name'][i],bolezni_24farm)\n",
    "    if temp != '':\n",
    "        d[bolezni['name'][i]] = temp\n",
    "    else:\n",
    "        temp = checker(bolezni['name'][i],bolezni_likar)\n",
    "        if temp != '':\n",
    "            d[bolezni['name'][i]] = temp\n",
    "        else:\n",
    "            temp = checker(bolezni['name'][i],bolezni_lookmedbook)\n",
    "            if temp != '':\n",
    "                d[bolezni['name'][i]] = temp\n",
    "            else:\n",
    "                temp = checker(bolezni['name'][i],bolezni_medicina)\n",
    "                if temp != '':\n",
    "                    d[bolezni['name'][i]] = temp\n",
    "                else:\n",
    "                    temp = checker(bolezni['name'][i],bolezni_prostodoctor)\n",
    "                    if temp != '':\n",
    "                        d[bolezni['name'][i]] = temp\n",
    "                    else:\n",
    "                        temp = checker(bolezni['name'][i],bolezni_zdorovieinfo)\n",
    "                        if temp != '':\n",
    "                            d[bolezni['name'][i]] = temp\n",
    "                        else:\n",
    "                            temp = checker(bolezni['name'][i],bolezni_eurolab)\n",
    "                            if temp != '':\n",
    "                                d[bolezni['name'][i]] = temp\n",
    "                            else:\n",
    "                                notFound[bolezni['name'][i]] = temp\n",
    "\n",
    "        "
   ]
  },
  {
   "cell_type": "code",
   "execution_count": 5,
   "metadata": {},
   "outputs": [],
   "source": [
    "def checker(name,part):\n",
    "    for i in range (len(part['descr'])):\n",
    "        if name == part['name'][i]:\n",
    "            return part['descr'][i]\n",
    "    return ''\n",
    "            "
   ]
  },
  {
   "cell_type": "code",
   "execution_count": 7,
   "metadata": {},
   "outputs": [
    {
     "name": "stdout",
     "output_type": "stream",
     "text": [
      "3565 1418 2147\n"
     ]
    }
   ],
   "source": [
    "print(len(bolezni) ,len(d),len(notFound))"
   ]
  },
  {
   "cell_type": "code",
   "execution_count": 11,
   "metadata": {},
   "outputs": [],
   "source": [
    "# notFound"
   ]
  },
  {
   "cell_type": "code",
   "execution_count": null,
   "metadata": {},
   "outputs": [],
   "source": []
  }
 ],
 "metadata": {
  "kernelspec": {
   "display_name": "Python 3",
   "language": "python",
   "name": "python3"
  },
  "language_info": {
   "codemirror_mode": {
    "name": "ipython",
    "version": 3
   },
   "file_extension": ".py",
   "mimetype": "text/x-python",
   "name": "python",
   "nbconvert_exporter": "python",
   "pygments_lexer": "ipython3",
   "version": "3.5.2"
  }
 },
 "nbformat": 4,
 "nbformat_minor": 2
}

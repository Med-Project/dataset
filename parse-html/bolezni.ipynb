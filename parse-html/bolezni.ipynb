{
 "cells": [
  {
   "cell_type": "code",
   "execution_count": 1,
   "metadata": {
    "collapsed": true
   },
   "outputs": [],
   "source": [
    "import re,requests\n",
    "import pandas as pd\n",
    "from bs4 import BeautifulSoup\n",
    "from nltk.corpus import stopwords\n",
    "\n",
    "from os import listdir\n",
    "from os.path import isfile, join\n",
    "from tqdm import tqdm"
   ]
  },
  {
   "cell_type": "code",
   "execution_count": null,
   "metadata": {
    "collapsed": true
   },
   "outputs": [],
   "source": []
  },
  {
   "cell_type": "code",
   "execution_count": 2,
   "metadata": {
    "collapsed": true
   },
   "outputs": [],
   "source": [
    "words = ['мм', 'рт', 'ст', 'г', 'м', 'мл', 'кг', 'мг', 'см', 'ч', 'е', 'х', 'a', 'd', 'b', 'i', 'ii', 'iii'] \n",
    "set_stopWords = stopwords.words(\"russian\") + words\n",
    "set_stopWords = set(set_stopWords)"
   ]
  },
  {
   "cell_type": "code",
   "execution_count": 3,
   "metadata": {
    "collapsed": true
   },
   "outputs": [],
   "source": [
    "def deleteStopWords(text):\n",
    "    stop = ['др. греч.', 'греч.', 'лат.', 'др.', 'и т. д', 'и т.д', 'т. е.', 'т.е.', 'т.н.', 'т. н.', 'т.п.', 'т. п.',\n",
    "                'т. д', 'т.д', 'мм. рт. ст.', 'мм рт. ст.', 'мм.рт.ст', 'МЕДПОИСК.РУ', 'Контактная форма ниже', 'ºС']\n",
    "    for i in stop:\n",
    "        text = text.replace(i, '')\n",
    "    return text"
   ]
  },
  {
   "cell_type": "code",
   "execution_count": 4,
   "metadata": {
    "collapsed": true
   },
   "outputs": [],
   "source": [
    "def clearText(text):\n",
    "    text = deleteStopWords(text)\n",
    "    text = text.replace('\\xad', '')\n",
    "    text = text.replace('\\n\\n', '.')\n",
    "    text = text.replace('..', '.')\n",
    "    text = text.replace(':', ' ')\n",
    "    text = text.replace(';', '.')\n",
    "    text = text.replace('?', '.')\n",
    "    text = text.replace('!', '.')\n",
    "    text = re.sub(r'\\[[\\d+]*\\]', '', text)\n",
    "    text = re.sub(r'\\([\\d+]*\\)', '', text)\n",
    "    text = re.sub('\\d+', ' ', text)\n",
    "    text = re.sub('[^\\w.]', ' ', text)\n",
    "    \n",
    "    final_s = ''\n",
    "    for sen in text.split('.'):\n",
    "        sen = sen.strip()\n",
    "        tmp_t = ''\n",
    "        for tok in sen.split(' '):\n",
    "            tok = tok.strip()\n",
    "            if(len(tok) <= 2):\n",
    "                continue\n",
    "            if(tok.lower() not in set_stopWords):\n",
    "                tmp_t += tok + ' '\n",
    "        if(len(tmp_t.split()) < 2):\n",
    "            continue\n",
    "        final_s += tmp_t + '.'\n",
    "    return final_s"
   ]
  },
  {
   "cell_type": "code",
   "execution_count": null,
   "metadata": {
    "collapsed": true
   },
   "outputs": [],
   "source": []
  },
  {
   "cell_type": "code",
   "execution_count": 11,
   "metadata": {},
   "outputs": [
    {
     "name": "stderr",
     "output_type": "stream",
     "text": [
      "100%|██████████| 179/179 [29:44<00:00,  7.67s/it]\n"
     ]
    }
   ],
   "source": [
    "d = {}\n",
    "s = requests.Session()\n",
    "not_worked = []\n",
    "for i in tqdm(range(1,180)):\n",
    "    url = 'http://www.krasotaimedicina.ru/diseases/?PAGEN_1='+ str(i)\n",
    "    page = s.get(url)\n",
    "    soup = BeautifulSoup(page.content, 'lxml')\n",
    "    mu = soup.find_all(\"div\", {\"class\":\"element elementCosEqPr disLink\"})\n",
    "    \n",
    "    if(len(mu) == 0):\n",
    "        not_worked.append('http://www.krasotaimedicina.ru/diseases/?PAGEN_1='+ str(i))\n",
    "        continue\n",
    "    \n",
    "    for j in mu:\n",
    "        topic = j.find(\"a\").text\n",
    "        link = str(j.find('a')['href'])\n",
    "        \n",
    "        page = s.get('http://www.krasotaimedicina.ru'+link) \n",
    "        soup = BeautifulSoup(page.content, 'lxml')\n",
    "        dt = soup.find(\"div\", {\"class\":\"detailTextDis\"})\n",
    "        pdt = soup.find(\"div\", {\"class\":\"previewTextDis\"})\n",
    "        \n",
    "        if(dt == None or pdt == None):\n",
    "            # not_worked.append('http://www.krasotaimedicina.ru'+link)\n",
    "            continue\n",
    "        \n",
    "        for block in [dt, pdt]:\n",
    "#             for j in block.find_all('a'):\n",
    "#                 j.decompose()\n",
    "            try:\n",
    "                for j in block.find_all('img'):\n",
    "                    j.decompose()\n",
    "            except Exception:\n",
    "                pass\n",
    "            \n",
    "            try:\n",
    "                for j in block.find_all('h2'):\n",
    "                    j.decompose()\n",
    "            except Exception:\n",
    "                pass\n",
    "            \n",
    "            try:\n",
    "                for j in block.find_all('script'):\n",
    "                    j.decompose()\n",
    "            except Exception:\n",
    "                pass\n",
    "        \n",
    "        text_dt = clearText(dt.text)\n",
    "        text_pdt = clearText(pdt.text)       \n",
    "        d[topic]= text_dt + ' ' + text_pdt"
   ]
  },
  {
   "cell_type": "code",
   "execution_count": 20,
   "metadata": {},
   "outputs": [
    {
     "data": {
      "text/plain": [
       "3565"
      ]
     },
     "execution_count": 20,
     "metadata": {},
     "output_type": "execute_result"
    }
   ],
   "source": [
    "len(d)"
   ]
  },
  {
   "cell_type": "code",
   "execution_count": null,
   "metadata": {},
   "outputs": [],
   "source": []
  },
  {
   "cell_type": "code",
   "execution_count": 16,
   "metadata": {
    "collapsed": true
   },
   "outputs": [],
   "source": [
    "name = []\n",
    "descr = []\n",
    "\n",
    "for i in d.keys():\n",
    "    name.append(i)\n",
    "    descr.append(d[i])"
   ]
  },
  {
   "cell_type": "code",
   "execution_count": 17,
   "metadata": {
    "collapsed": true
   },
   "outputs": [],
   "source": [
    "res = pd.DataFrame()\n",
    "res['name'] = name\n",
    "res['descr'] = descr"
   ]
  },
  {
   "cell_type": "code",
   "execution_count": 18,
   "metadata": {},
   "outputs": [
    {
     "data": {
      "text/html": [
       "<div>\n",
       "<style>\n",
       "    .dataframe thead tr:only-child th {\n",
       "        text-align: right;\n",
       "    }\n",
       "\n",
       "    .dataframe thead th {\n",
       "        text-align: left;\n",
       "    }\n",
       "\n",
       "    .dataframe tbody tr th {\n",
       "        vertical-align: top;\n",
       "    }\n",
       "</style>\n",
       "<table border=\"1\" class=\"dataframe\">\n",
       "  <thead>\n",
       "    <tr style=\"text-align: right;\">\n",
       "      <th></th>\n",
       "      <th>name</th>\n",
       "      <th>descr</th>\n",
       "    </tr>\n",
       "  </thead>\n",
       "  <tbody>\n",
       "    <tr>\n",
       "      <th>0</th>\n",
       "      <td>Hallux valgus</td>\n",
       "      <td>Hallux valgus вальгусная деформация первого па...</td>\n",
       "    </tr>\n",
       "    <tr>\n",
       "      <th>1</th>\n",
       "      <td>HELLP-синдром</td>\n",
       "      <td>Хотя последние годы HELLP синдром наблюдается ...</td>\n",
       "    </tr>\n",
       "    <tr>\n",
       "      <th>2</th>\n",
       "      <td>Абдоминальная мигрень</td>\n",
       "      <td>Термин абдоминальная мигрень используется невр...</td>\n",
       "    </tr>\n",
       "    <tr>\n",
       "      <th>3</th>\n",
       "      <td>Абиотрофия сетчатки</td>\n",
       "      <td>Абиотрофия сетчатки дегенерация сетчатки дистр...</td>\n",
       "    </tr>\n",
       "    <tr>\n",
       "      <th>4</th>\n",
       "      <td>Абсанс</td>\n",
       "      <td>Первые упоминания абсанс датируются годом .Тер...</td>\n",
       "    </tr>\n",
       "  </tbody>\n",
       "</table>\n",
       "</div>"
      ],
      "text/plain": [
       "                    name                                              descr\n",
       "0          Hallux valgus  Hallux valgus вальгусная деформация первого па...\n",
       "1          HELLP-синдром  Хотя последние годы HELLP синдром наблюдается ...\n",
       "2  Абдоминальная мигрень  Термин абдоминальная мигрень используется невр...\n",
       "3    Абиотрофия сетчатки  Абиотрофия сетчатки дегенерация сетчатки дистр...\n",
       "4                 Абсанс  Первые упоминания абсанс датируются годом .Тер..."
      ]
     },
     "execution_count": 18,
     "metadata": {},
     "output_type": "execute_result"
    }
   ],
   "source": [
    "res.head()"
   ]
  },
  {
   "cell_type": "code",
   "execution_count": 19,
   "metadata": {
    "collapsed": true
   },
   "outputs": [],
   "source": [
    "# res.to_csv('bolezni.csv', index=False)"
   ]
  },
  {
   "cell_type": "code",
   "execution_count": null,
   "metadata": {
    "collapsed": true
   },
   "outputs": [],
   "source": []
  }
 ],
 "metadata": {
  "kernelspec": {
   "display_name": "Python3 (ml)",
   "language": "python",
   "name": "ml"
  },
  "language_info": {
   "codemirror_mode": {
    "name": "ipython",
    "version": 3
   },
   "file_extension": ".py",
   "mimetype": "text/x-python",
   "name": "python",
   "nbconvert_exporter": "python",
   "pygments_lexer": "ipython3",
   "version": "3.6.0"
  }
 },
 "nbformat": 4,
 "nbformat_minor": 2
}

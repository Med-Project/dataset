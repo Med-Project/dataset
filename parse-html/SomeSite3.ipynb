{
 "cells": [
  {
   "cell_type": "code",
   "execution_count": 1,
   "metadata": {},
   "outputs": [],
   "source": [
    "import re,requests\n",
    "from tqdm import tqdm\n",
    "import pandas as pd\n",
    "from bs4 import BeautifulSoup\n",
    "from nltk.corpus import stopwords\n",
    "\n",
    "from os import listdir\n",
    "from os.path import isfile, join\n"
   ]
  },
  {
   "cell_type": "code",
   "execution_count": 2,
   "metadata": {},
   "outputs": [],
   "source": [
    "words = ['мм', 'рт', 'ст', 'г', 'м', 'мл', 'кг', 'мг', 'см', 'ч', 'е', 'х', 'a', 'd', 'b'] \n",
    "set_stopWords = stopwords.words(\"russian\") + words\n",
    "set_stopWords = set(set_stopWords)\n",
    "stop = ['др. греч.', 'греч.', 'лат.', 'др.', 'и т. д', 'и т.д', 'т. е.', 'т.е.', 'т.н.', 'т. н.', 'т.п.', 'т. п.',\n",
    "        'т. д', 'т.д', 'мм. рт. ст.', 'мм рт. ст.', 'мм.рт.ст', 'МЕДПОИСК.РУ', 'Контактная форма ниже', 'forbes.kz']\n"
   ]
  },
  {
   "cell_type": "code",
   "execution_count": 4,
   "metadata": {},
   "outputs": [],
   "source": [
    "s = requests.Session()\n",
    "bolezni = pd.read_csv('bolezni.csv')\n",
    "# bolezni['name']"
   ]
  },
  {
   "cell_type": "code",
   "execution_count": 9,
   "metadata": {},
   "outputs": [
    {
     "data": {
      "text/plain": [
       "624"
      ]
     },
     "execution_count": 9,
     "metadata": {},
     "output_type": "execute_result"
    }
   ],
   "source": [
    "url = 'http://www.prostodoctor.com.ua/spravochniki/bolezni'\n",
    "urls = {}\n",
    "page = s.get(url)\n",
    "soup = BeautifulSoup(page.content, 'lxml')\n",
    "mu = soup.find('div', {'class': 'alphabet'})\n",
    "mu.find('div', {'class': 'alphabet__box'}).decompose()\n",
    "mu = mu.find_all('li')\n",
    "for i in mu:\n",
    "    urls[i.text]= 'http://www.prostodoctor.com.ua'+i.find('a')['href']\n",
    "len(urls)"
   ]
  },
  {
   "cell_type": "code",
   "execution_count": 18,
   "metadata": {},
   "outputs": [],
   "source": [
    "texts = []\n",
    "num=0\n",
    "for i in urls:\n",
    "    page = s.get(urls[i])\n",
    "    soup = BeautifulSoup(page.content, 'lxml')\n",
    "    try:\n",
    "        mu = soup.find('div', {'class': 'tariff__box'})\n",
    "        text = mu.find('p').text\n",
    "    except:\n",
    "        texts.append(\"\")\n",
    "        continue\n",
    "    for j in stop:\n",
    "        text = text.replace(j, '')\n",
    "        text = text.replace('?', '.')\n",
    "        text = re.sub('\\d+', ' ', text)\n",
    "        text = re.sub('[^\\w.]', ' ', text)\n",
    "\n",
    "        final_s = ''\n",
    "        sentences = text.split('.')\n",
    "        for sen in sentences:\n",
    "            sen = sen.strip()\n",
    "            for tok in sen.split(' '):\n",
    "                tok = tok.strip()\n",
    "                if(tok.lower() not in set_stopWords):\n",
    "                    final_s += (tok + ' ')\n",
    "            final_s += '.'\n",
    "\n",
    "    texts.append(final_s)\n"
   ]
  },
  {
   "cell_type": "code",
   "execution_count": 13,
   "metadata": {},
   "outputs": [
    {
     "data": {
      "text/plain": [
       "218"
      ]
     },
     "execution_count": 13,
     "metadata": {},
     "output_type": "execute_result"
    }
   ],
   "source": [
    "len(texts)"
   ]
  },
  {
   "cell_type": "code",
   "execution_count": null,
   "metadata": {},
   "outputs": [],
   "source": [
    "uri = []\n",
    "name =[]\n",
    "for i in urls:\n",
    "    uri.append(urls[i])\n",
    "    name.append(i)"
   ]
  },
  {
   "cell_type": "code",
   "execution_count": null,
   "metadata": {},
   "outputs": [],
   "source": [
    "res = pd.DataFrame()\n",
    "res['name'] = name\n",
    "res['url'] = uri\n",
    "res['descr'] = texts\n",
    "res.head()\n",
    "res.to_csv('bolezni_prostodoctor.csv', index=False)"
   ]
  },
  {
   "cell_type": "code",
   "execution_count": null,
   "metadata": {},
   "outputs": [],
   "source": [
    "a = set()\n",
    "num = 0\n",
    "for i in bolezni['name']:\n",
    "    if i in urls:\n",
    "          num += 1"
   ]
  }
 ],
 "metadata": {
  "kernelspec": {
   "display_name": "Python 3",
   "language": "python",
   "name": "python3"
  },
  "language_info": {
   "codemirror_mode": {
    "name": "ipython",
    "version": 3
   },
   "file_extension": ".py",
   "mimetype": "text/x-python",
   "name": "python",
   "nbconvert_exporter": "python",
   "pygments_lexer": "ipython3",
   "version": "3.5.2"
  }
 },
 "nbformat": 4,
 "nbformat_minor": 2
}

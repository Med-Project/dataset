{
 "cells": [
  {
   "cell_type": "code",
   "execution_count": 1,
   "metadata": {
    "collapsed": true
   },
   "outputs": [],
   "source": [
    "import re\n",
    "import pandas as pd\n",
    "from bs4 import BeautifulSoup\n",
    "from nltk.corpus import stopwords\n",
    "\n",
    "from tqdm import tqdm\n",
    "\n",
    "from os import listdir\n",
    "from os.path import isfile, join"
   ]
  },
  {
   "cell_type": "code",
   "execution_count": 2,
   "metadata": {
    "collapsed": true
   },
   "outputs": [],
   "source": [
    "mypath = '../medelement_clin_prot_rk/'\n",
    "onlyfiles = [f for f in listdir(mypath) if isfile(join(mypath, f))]"
   ]
  },
  {
   "cell_type": "code",
   "execution_count": 3,
   "metadata": {
    "collapsed": true
   },
   "outputs": [],
   "source": [
    "delete_sections = ['ATTENTION', 'ATTACHMENTS', 'LISTOFREFERENCES', 'CLASSIFICATION']\n",
    "delete_sections = set(delete_sections)\n",
    "\n",
    "words = ['мм', 'рт', 'ст', 'г', 'м', 'мл', 'кг', 'мг', 'см', 'ч', 'е', 'х'] \n",
    "set_stopWords = stopwords.words(\"russian\") + words\n",
    "set_stopWords = set(set_stopWords)"
   ]
  },
  {
   "cell_type": "code",
   "execution_count": 4,
   "metadata": {
    "collapsed": true
   },
   "outputs": [],
   "source": [
    "def deleteStopWords(text):\n",
    "    stop = ['др. греч.', 'греч.', 'лат.', 'др.', 'и т. д', 'и т.д', 'т. е.', 'т.е.', 'т.н.', 'т. н.', 'т.п.', 'т. п.',\n",
    "                'т. д', 'т.д', 'мм. рт. ст.', 'мм рт. ст.', 'мм.рт.ст', 'МЕДПОИСК.РУ', 'Контактная форма ниже', 'ºС']\n",
    "    for i in stop:\n",
    "        text = text.replace(i, '')\n",
    "    return text"
   ]
  },
  {
   "cell_type": "code",
   "execution_count": 5,
   "metadata": {
    "collapsed": true
   },
   "outputs": [],
   "source": [
    "def clearTable(text):\n",
    "    text = deleteStopWords(text)\n",
    "    text = text.replace('\\xad', '')\n",
    "    text = text.replace('\\n\\n', '.')\n",
    "    text = text.replace('..', '.')\n",
    "    text = text.replace(':', ' ')\n",
    "    text = text.replace(';', '.')\n",
    "    text = text.replace('?', '.')\n",
    "    text = text.replace('!', '.')\n",
    "    text = re.sub(r'\\[[\\d+]*\\]', '', text)\n",
    "    text = re.sub(r'\\([\\d+]*\\)', '', text)\n",
    "    text = re.sub('\\d+', ' ', text)\n",
    "    text = re.sub('[^\\w.]', ' ', text)\n",
    "    \n",
    "    final_s = ''\n",
    "    for sen in text.split('.'):\n",
    "        sen = sen.strip()\n",
    "        tmp_t = ''\n",
    "        for tok in sen.split(' '):\n",
    "            tok = tok.strip()\n",
    "            if(tok.lower() not in set_stopWords):\n",
    "                tmp_t += tok + ' '\n",
    "        if(len(tmp_t.split()) < 2):\n",
    "            continue\n",
    "        final_s += tmp_t + '.'\n",
    "    return final_s"
   ]
  },
  {
   "cell_type": "code",
   "execution_count": 6,
   "metadata": {
    "collapsed": true
   },
   "outputs": [],
   "source": [
    "def clearHtml(fileName):\n",
    "    text = ''\n",
    "    with open(mypath + fileName) as file:\n",
    "        text = file.read()\n",
    "    soup = BeautifulSoup(text, 'lxml')\n",
    "    \n",
    "    soup.find('section', {'class': 'page-information disease-information'}).decompose()\n",
    "    soup.find('section', {'data-index': '0'}).decompose()\n",
    "    \n",
    "    for name in delete_sections:\n",
    "        for sec in soup.find_all('section', {'data-section-name': name}):\n",
    "            sec.decompose()\n",
    "        for sec in soup.find_all('section', {'data-field-name': name}):\n",
    "            sec.decompose()\n",
    "    \n",
    "    final_text = ''\n",
    "    for i in soup.find_all(lambda tag: tag.name=='table'):\n",
    "        tmp = clearTable(i.text)\n",
    "        final_text += tmp\n",
    "        i.decompose()\n",
    "    \n",
    "    tmp = clearTable(soup.text)\n",
    "    final_text += tmp\n",
    "    \n",
    "    return final_text"
   ]
  },
  {
   "cell_type": "code",
   "execution_count": null,
   "metadata": {
    "collapsed": true
   },
   "outputs": [],
   "source": []
  },
  {
   "cell_type": "code",
   "execution_count": 7,
   "metadata": {},
   "outputs": [
    {
     "name": "stderr",
     "output_type": "stream",
     "text": [
      "100%|██████████| 1023/1023 [02:45<00:00,  6.17it/s]\n"
     ]
    }
   ],
   "source": [
    "allText = ''\n",
    "for file in tqdm(onlyfiles):\n",
    "    fileText = clearHtml(file)\n",
    "    allText += fileText"
   ]
  },
  {
   "cell_type": "code",
   "execution_count": null,
   "metadata": {
    "collapsed": true
   },
   "outputs": [],
   "source": []
  },
  {
   "cell_type": "code",
   "execution_count": 8,
   "metadata": {},
   "outputs": [
    {
     "data": {
      "text/plain": [
       "23561331"
      ]
     },
     "execution_count": 8,
     "metadata": {},
     "output_type": "execute_result"
    }
   ],
   "source": [
    "len(allText)"
   ]
  },
  {
   "cell_type": "code",
   "execution_count": null,
   "metadata": {
    "collapsed": true
   },
   "outputs": [],
   "source": []
  },
  {
   "cell_type": "code",
   "execution_count": 9,
   "metadata": {
    "collapsed": true
   },
   "outputs": [],
   "source": [
    "# with open('medelement-rk.txt', 'w+') as f:\n",
    "#     f.write(allText)"
   ]
  },
  {
   "cell_type": "code",
   "execution_count": null,
   "metadata": {
    "collapsed": true
   },
   "outputs": [],
   "source": []
  },
  {
   "cell_type": "code",
   "execution_count": null,
   "metadata": {
    "collapsed": true
   },
   "outputs": [],
   "source": []
  }
 ],
 "metadata": {
  "kernelspec": {
   "display_name": "Python 3",
   "language": "python",
   "name": "python3"
  },
  "language_info": {
   "codemirror_mode": {
    "name": "ipython",
    "version": 3
   },
   "file_extension": ".py",
   "mimetype": "text/x-python",
   "name": "python",
   "nbconvert_exporter": "python",
   "pygments_lexer": "ipython3",
   "version": "3.6.0"
  }
 },
 "nbformat": 4,
 "nbformat_minor": 2
}

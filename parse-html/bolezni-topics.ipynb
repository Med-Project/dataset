{
 "cells": [
  {
   "cell_type": "code",
   "execution_count": 1,
   "metadata": {
    "collapsed": true
   },
   "outputs": [],
   "source": [
    "import re,requests\n",
    "import pandas as pd\n",
    "from bs4 import BeautifulSoup\n",
    "from nltk.corpus import stopwords\n",
    "\n",
    "from os import listdir\n",
    "from os.path import isfile, join\n",
    "from tqdm import tqdm\n",
    "\n",
    "s = requests.Session()"
   ]
  },
  {
   "cell_type": "code",
   "execution_count": null,
   "metadata": {
    "collapsed": true
   },
   "outputs": [],
   "source": []
  },
  {
   "cell_type": "code",
   "execution_count": 2,
   "metadata": {
    "collapsed": true
   },
   "outputs": [],
   "source": [
    "def getTopicsUrl():\n",
    "    topic = {}\n",
    "    base_url = 'http://www.krasotaimedicina.ru/diseases/'\n",
    "    page = s.get(base_url)\n",
    "    soup = BeautifulSoup(page.content, 'lxml')\n",
    "    \n",
    "    lis = soup.find_all(\"ul\", {\"class\":\"left-menu\"})[0].find_all('li')\n",
    "    \n",
    "    for li in lis:\n",
    "        name = li.text\n",
    "        link = 'http://www.krasotaimedicina.ru' + str(li.find('a')['href'])\n",
    "        topic[name] = link\n",
    "    \n",
    "    return topic"
   ]
  },
  {
   "cell_type": "code",
   "execution_count": 3,
   "metadata": {
    "collapsed": true
   },
   "outputs": [],
   "source": [
    "def getTopicDisease(furl):\n",
    "    allDiseases = []\n",
    "    url = furl\n",
    "    while True:\n",
    "        page = s.get(url)\n",
    "        soup = BeautifulSoup(page.content, 'lxml')\n",
    "        mu = soup.find_all(\"div\", {\"class\":\"element elementCosEqPr disLink\"})\n",
    "        \n",
    "        for i in mu:\n",
    "            a = i.find('a', {'class': 'title'})\n",
    "            allDiseases.append(a.text)\n",
    "        \n",
    "        nextLink = soup.find_all('a', {'id': 'navigation_1_next_page'})\n",
    "        if(len(nextLink) == 0):\n",
    "            break\n",
    "        \n",
    "        url = 'http://www.krasotaimedicina.ru' + str(nextLink[0]['href'])\n",
    "        \n",
    "    return allDiseases"
   ]
  },
  {
   "cell_type": "code",
   "execution_count": null,
   "metadata": {
    "collapsed": true
   },
   "outputs": [],
   "source": []
  },
  {
   "cell_type": "code",
   "execution_count": 4,
   "metadata": {
    "collapsed": true
   },
   "outputs": [],
   "source": [
    "topics = getTopicsUrl()"
   ]
  },
  {
   "cell_type": "code",
   "execution_count": 5,
   "metadata": {},
   "outputs": [
    {
     "data": {
      "text/plain": [
       "31"
      ]
     },
     "execution_count": 5,
     "metadata": {},
     "output_type": "execute_result"
    }
   ],
   "source": [
    "len(topics)"
   ]
  },
  {
   "cell_type": "code",
   "execution_count": null,
   "metadata": {
    "collapsed": true
   },
   "outputs": [],
   "source": []
  },
  {
   "cell_type": "code",
   "execution_count": 6,
   "metadata": {
    "collapsed": true
   },
   "outputs": [],
   "source": [
    "tmp = getTopicDisease('http://www.krasotaimedicina.ru/diseases/speech-disorder')"
   ]
  },
  {
   "cell_type": "code",
   "execution_count": 7,
   "metadata": {},
   "outputs": [
    {
     "data": {
      "text/plain": [
       "33"
      ]
     },
     "execution_count": 7,
     "metadata": {},
     "output_type": "execute_result"
    }
   ],
   "source": [
    "len(tmp)"
   ]
  },
  {
   "cell_type": "code",
   "execution_count": null,
   "metadata": {
    "collapsed": true
   },
   "outputs": [],
   "source": []
  },
  {
   "cell_type": "code",
   "execution_count": null,
   "metadata": {
    "collapsed": true
   },
   "outputs": [],
   "source": []
  },
  {
   "cell_type": "code",
   "execution_count": 8,
   "metadata": {},
   "outputs": [
    {
     "name": "stderr",
     "output_type": "stream",
     "text": [
      "100%|██████████| 31/31 [04:26<00:00,  4.25s/it]\n"
     ]
    }
   ],
   "source": [
    "topic_diseases = {}\n",
    "for topic in tqdm(topics.keys()):\n",
    "    diseases = getTopicDisease(topics[topic])\n",
    "    topic_diseases[topic] = diseases\n",
    "    \n",
    "    if(len(diseases) < 10):\n",
    "        print(topic)"
   ]
  },
  {
   "cell_type": "code",
   "execution_count": null,
   "metadata": {
    "collapsed": true
   },
   "outputs": [],
   "source": []
  },
  {
   "cell_type": "code",
   "execution_count": 9,
   "metadata": {},
   "outputs": [
    {
     "data": {
      "text/plain": [
       "31"
      ]
     },
     "execution_count": 9,
     "metadata": {},
     "output_type": "execute_result"
    }
   ],
   "source": [
    "len(topic_diseases)"
   ]
  },
  {
   "cell_type": "code",
   "execution_count": 10,
   "metadata": {
    "collapsed": true
   },
   "outputs": [],
   "source": [
    "cnt = 0\n",
    "for topic in topic_diseases.keys():\n",
    "    cnt += len(topic_diseases[topic])"
   ]
  },
  {
   "cell_type": "code",
   "execution_count": 11,
   "metadata": {},
   "outputs": [
    {
     "data": {
      "text/plain": [
       "4099"
      ]
     },
     "execution_count": 11,
     "metadata": {},
     "output_type": "execute_result"
    }
   ],
   "source": [
    "cnt"
   ]
  },
  {
   "cell_type": "code",
   "execution_count": null,
   "metadata": {
    "collapsed": true
   },
   "outputs": [],
   "source": []
  },
  {
   "cell_type": "code",
   "execution_count": 12,
   "metadata": {
    "collapsed": true
   },
   "outputs": [],
   "source": [
    "bolezni = pd.read_csv('bolezni.csv')"
   ]
  },
  {
   "cell_type": "code",
   "execution_count": 13,
   "metadata": {
    "collapsed": true
   },
   "outputs": [],
   "source": [
    "all_bolezni = set(bolezni['name'].values)"
   ]
  },
  {
   "cell_type": "code",
   "execution_count": 16,
   "metadata": {
    "collapsed": true
   },
   "outputs": [],
   "source": [
    "top_column = []\n",
    "for i in bolezni['name']:\n",
    "    tmp_ar = []\n",
    "    for key in topic_diseases.keys():\n",
    "        tmp_s = set(topic_diseases[key])\n",
    "        if(i in tmp_s):\n",
    "            tmp_ar.append(key)\n",
    "    top_column.append(' $ '.join(tmp_ar))"
   ]
  },
  {
   "cell_type": "code",
   "execution_count": null,
   "metadata": {
    "collapsed": true
   },
   "outputs": [],
   "source": []
  },
  {
   "cell_type": "code",
   "execution_count": 18,
   "metadata": {
    "collapsed": true
   },
   "outputs": [],
   "source": [
    "bolezni['topics'] = top_column"
   ]
  },
  {
   "cell_type": "code",
   "execution_count": 19,
   "metadata": {},
   "outputs": [
    {
     "data": {
      "text/html": [
       "<div>\n",
       "<style>\n",
       "    .dataframe thead tr:only-child th {\n",
       "        text-align: right;\n",
       "    }\n",
       "\n",
       "    .dataframe thead th {\n",
       "        text-align: left;\n",
       "    }\n",
       "\n",
       "    .dataframe tbody tr th {\n",
       "        vertical-align: top;\n",
       "    }\n",
       "</style>\n",
       "<table border=\"1\" class=\"dataframe\">\n",
       "  <thead>\n",
       "    <tr style=\"text-align: right;\">\n",
       "      <th></th>\n",
       "      <th>name</th>\n",
       "      <th>descr</th>\n",
       "      <th>topics</th>\n",
       "    </tr>\n",
       "  </thead>\n",
       "  <tbody>\n",
       "    <tr>\n",
       "      <th>0</th>\n",
       "      <td>Hallux valgus</td>\n",
       "      <td>Hallux valgus вальгусная деформация первого па...</td>\n",
       "      <td>Болезни ОДС и травмы</td>\n",
       "    </tr>\n",
       "    <tr>\n",
       "      <th>1</th>\n",
       "      <td>HELLP-синдром</td>\n",
       "      <td>Хотя последние годы HELLP синдром наблюдается ...</td>\n",
       "      <td>Женские болезни</td>\n",
       "    </tr>\n",
       "    <tr>\n",
       "      <th>2</th>\n",
       "      <td>Абдоминальная мигрень</td>\n",
       "      <td>Термин абдоминальная мигрень используется невр...</td>\n",
       "      <td>Нервные болезни</td>\n",
       "    </tr>\n",
       "    <tr>\n",
       "      <th>3</th>\n",
       "      <td>Абиотрофия сетчатки</td>\n",
       "      <td>Абиотрофия сетчатки дегенерация сетчатки дистр...</td>\n",
       "      <td>Глазные болезни $ Наследственные болезни</td>\n",
       "    </tr>\n",
       "    <tr>\n",
       "      <th>4</th>\n",
       "      <td>Абсанс</td>\n",
       "      <td>Первые упоминания абсанс датируются годом .Тер...</td>\n",
       "      <td>Нервные болезни</td>\n",
       "    </tr>\n",
       "  </tbody>\n",
       "</table>\n",
       "</div>"
      ],
      "text/plain": [
       "                    name                                              descr  \\\n",
       "0          Hallux valgus  Hallux valgus вальгусная деформация первого па...   \n",
       "1          HELLP-синдром  Хотя последние годы HELLP синдром наблюдается ...   \n",
       "2  Абдоминальная мигрень  Термин абдоминальная мигрень используется невр...   \n",
       "3    Абиотрофия сетчатки  Абиотрофия сетчатки дегенерация сетчатки дистр...   \n",
       "4                 Абсанс  Первые упоминания абсанс датируются годом .Тер...   \n",
       "\n",
       "                                     topics  \n",
       "0                      Болезни ОДС и травмы  \n",
       "1                           Женские болезни  \n",
       "2                           Нервные болезни  \n",
       "3  Глазные болезни $ Наследственные болезни  \n",
       "4                           Нервные болезни  "
      ]
     },
     "execution_count": 19,
     "metadata": {},
     "output_type": "execute_result"
    }
   ],
   "source": [
    "bolezni.head()"
   ]
  },
  {
   "cell_type": "code",
   "execution_count": 21,
   "metadata": {
    "collapsed": true
   },
   "outputs": [],
   "source": [
    "# bolezni.to_csv('bolezni.csv', index=False)"
   ]
  },
  {
   "cell_type": "code",
   "execution_count": null,
   "metadata": {
    "collapsed": true
   },
   "outputs": [],
   "source": []
  }
 ],
 "metadata": {
  "kernelspec": {
   "display_name": "Python3 (ml)",
   "language": "python",
   "name": "ml"
  },
  "language_info": {
   "codemirror_mode": {
    "name": "ipython",
    "version": 3
   },
   "file_extension": ".py",
   "mimetype": "text/x-python",
   "name": "python",
   "nbconvert_exporter": "python",
   "pygments_lexer": "ipython3",
   "version": "3.6.0"
  }
 },
 "nbformat": 4,
 "nbformat_minor": 2
}

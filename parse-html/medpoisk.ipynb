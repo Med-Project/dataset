{
 "cells": [
  {
   "cell_type": "code",
   "execution_count": 1,
   "metadata": {
    "collapsed": true
   },
   "outputs": [],
   "source": [
    "import re\n",
    "import pandas as pd\n",
    "from bs4 import BeautifulSoup\n",
    "from nltk.corpus import stopwords\n",
    "\n",
    "from os import listdir\n",
    "from os.path import isfile, join"
   ]
  },
  {
   "cell_type": "code",
   "execution_count": 2,
   "metadata": {
    "collapsed": true
   },
   "outputs": [],
   "source": [
    "mypath = '../medpoisk/htmls/'\n",
    "onlyfiles = [f for f in listdir(mypath) if isfile(join(mypath, f))]"
   ]
  },
  {
   "cell_type": "code",
   "execution_count": null,
   "metadata": {
    "collapsed": true
   },
   "outputs": [],
   "source": []
  },
  {
   "cell_type": "code",
   "execution_count": 3,
   "metadata": {
    "collapsed": true
   },
   "outputs": [],
   "source": [
    "words = ['мм', 'рт', 'ст', 'г', 'м', 'мл', 'кг', 'мг', 'см', 'ч', 'е', 'х', 'a', 'd', 'b'] \n",
    "set_stopWords = stopwords.words(\"russian\") + words\n",
    "set_stopWords = set(set_stopWords)"
   ]
  },
  {
   "cell_type": "code",
   "execution_count": null,
   "metadata": {
    "collapsed": true
   },
   "outputs": [],
   "source": []
  },
  {
   "cell_type": "code",
   "execution_count": 4,
   "metadata": {
    "collapsed": true
   },
   "outputs": [],
   "source": [
    "def clearHtml(fileName):\n",
    "    text = ''\n",
    "    with open(mypath + fileName) as file:\n",
    "        text = file.read()\n",
    "    soup = BeautifulSoup(text, 'lxml')\n",
    "    \n",
    "    allRows = soup.find_all(\"div\", {\"class\": \"row\"})\n",
    "    res = ''\n",
    "    for row in allRows[2:]:\n",
    "        desease_content = row\n",
    "        for i in desease_content.find_all(\"div\", {\"class\": \"ads-top\"}):\n",
    "            i.decompose()\n",
    "\n",
    "        for i in desease_content.find_all(\"a\"):\n",
    "            i.decompose()\n",
    "\n",
    "        for i in desease_content.find_all(\"h3\"):\n",
    "            i.decompose()\n",
    "\n",
    "        for i in desease_content.find_all(\"div\", {\"id\": \"accordion\"}):\n",
    "            i.decompose()\n",
    "        tmp = desease_content.text\n",
    "        if('Варианты:' in tmp):\n",
    "            continue\n",
    "            \n",
    "        stop = ['др. греч.', 'греч.', 'лат.', 'др.', 'и т. д', 'и т.д', 'т. е.', 'т.е.', 'т.н.', 'т. н.', 'т.п.', 'т. п.',\n",
    "                'т. д', 'т.д', 'мм. рт. ст.', 'мм рт. ст.', 'мм.рт.ст', 'МЕДПОИСК.РУ', 'Контактная форма ниже']\n",
    "        for i in stop:\n",
    "            tmp = tmp.replace(i, '')\n",
    "        tmp = tmp.replace('?', '.')\n",
    "        tmp = re.sub('\\d+', ' ', tmp)\n",
    "        tmp = re.sub('[^\\w.]', ' ', tmp)\n",
    "        res += tmp\n",
    "    \n",
    "    res = res.strip()\n",
    "    final_s = ''\n",
    "    sentences = res.split('.')\n",
    "    for sen in sentences:\n",
    "        sen = sen.strip()\n",
    "        for tok in sen.split(' '):\n",
    "            tok = tok.strip()\n",
    "            if(tok.lower() not in set_stopWords):\n",
    "                final_s += (tok + ' ')\n",
    "        final_s += '.'\n",
    "    \n",
    "    return final_s"
   ]
  },
  {
   "cell_type": "code",
   "execution_count": null,
   "metadata": {
    "collapsed": true
   },
   "outputs": [],
   "source": []
  },
  {
   "cell_type": "code",
   "execution_count": 5,
   "metadata": {
    "collapsed": true
   },
   "outputs": [],
   "source": [
    "allText = ''\n",
    "for file in onlyfiles:\n",
    "    sample = clearHtml(file)\n",
    "    allText += sample\n",
    "#     allText += '.'"
   ]
  },
  {
   "cell_type": "code",
   "execution_count": 6,
   "metadata": {},
   "outputs": [
    {
     "data": {
      "text/plain": [
       "10288"
      ]
     },
     "execution_count": 6,
     "metadata": {},
     "output_type": "execute_result"
    }
   ],
   "source": [
    "len(allText.split('.'))"
   ]
  },
  {
   "cell_type": "code",
   "execution_count": 7,
   "metadata": {},
   "outputs": [
    {
     "data": {
      "text/plain": [
       "1010476"
      ]
     },
     "execution_count": 7,
     "metadata": {},
     "output_type": "execute_result"
    }
   ],
   "source": [
    "len(allText)"
   ]
  },
  {
   "cell_type": "code",
   "execution_count": null,
   "metadata": {
    "collapsed": true
   },
   "outputs": [],
   "source": []
  },
  {
   "cell_type": "code",
   "execution_count": 8,
   "metadata": {
    "collapsed": true
   },
   "outputs": [],
   "source": [
    "# with open('medpoisk_text.txt', 'w+') as f:\n",
    "#     f.write(allText)"
   ]
  },
  {
   "cell_type": "code",
   "execution_count": null,
   "metadata": {
    "collapsed": true
   },
   "outputs": [],
   "source": []
  },
  {
   "cell_type": "code",
   "execution_count": null,
   "metadata": {
    "collapsed": true
   },
   "outputs": [],
   "source": []
  }
 ],
 "metadata": {
  "kernelspec": {
   "display_name": "Python 3",
   "language": "python",
   "name": "python3"
  },
  "language_info": {
   "codemirror_mode": {
    "name": "ipython",
    "version": 3
   },
   "file_extension": ".py",
   "mimetype": "text/x-python",
   "name": "python",
   "nbconvert_exporter": "python",
   "pygments_lexer": "ipython3",
   "version": "3.6.0"
  }
 },
 "nbformat": 4,
 "nbformat_minor": 2
}

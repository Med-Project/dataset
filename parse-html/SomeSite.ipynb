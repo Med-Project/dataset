{
 "cells": [
  {
   "cell_type": "code",
   "execution_count": 32,
   "metadata": {},
   "outputs": [],
   "source": [
    "import re,requests\n",
    "from tqdm import tqdm\n",
    "import pandas as pd\n",
    "from bs4 import BeautifulSoup\n",
    "from nltk.corpus import stopwords\n",
    "\n",
    "from os import listdir\n",
    "from os.path import isfile, join"
   ]
  },
  {
   "cell_type": "code",
   "execution_count": 25,
   "metadata": {},
   "outputs": [],
   "source": [
    "words = ['мм', 'рт', 'ст', 'г', 'м', 'мл', 'кг', 'мг', 'см', 'ч', 'е', 'х', 'a', 'd', 'b'] \n",
    "set_stopWords = stopwords.words(\"russian\") + words\n",
    "set_stopWords = set(set_stopWords)\n",
    "stop = ['др. греч.', 'греч.', 'лат.', 'др.', 'и т. д', 'и т.д', 'т. е.', 'т.е.', 'т.н.', 'т. н.', 'т.п.', 'т. п.',\n",
    "        'т. д', 'т.д', 'мм. рт. ст.', 'мм рт. ст.', 'мм.рт.ст', 'МЕДПОИСК.РУ', 'Контактная форма ниже', 'forbes.kz']\n"
   ]
  },
  {
   "cell_type": "code",
   "execution_count": 9,
   "metadata": {},
   "outputs": [],
   "source": [
    "s = requests.Session()\n",
    "bolezni = pd.read_csv('bolezni.csv')\n",
    "# bolezni['name']"
   ]
  },
  {
   "cell_type": "code",
   "execution_count": 16,
   "metadata": {},
   "outputs": [
    {
     "data": {
      "text/plain": [
       "1163"
      ]
     },
     "execution_count": 16,
     "metadata": {},
     "output_type": "execute_result"
    }
   ],
   "source": [
    "url = 'https://lookmedbook.ru/disease'\n",
    "urls = {}\n",
    "page = s.get(url)\n",
    "soup = BeautifulSoup(page.content, 'lxml')\n",
    "mu = soup.find_all('div', {'class': 'row deseaseRow'})\n",
    "for i in mu:\n",
    "    li = i.find_all('li')\n",
    "    for j in li:\n",
    "        urls[j.text]=j.find('a')['href']\n",
    "len(urls)"
   ]
  },
  {
   "cell_type": "code",
   "execution_count": 40,
   "metadata": {},
   "outputs": [],
   "source": [
    "texts = []\n",
    "for i in urls:\n",
    "    page = s.get(urls[i])\n",
    "    soup = BeautifulSoup(page.content, 'lxml')\n",
    "    mu = soup.find('div', {'class': 'main-cont flo'})\n",
    "    try:\n",
    "        if mu.find('div',{'class':'like_p with-sign'}):\n",
    "            mu.find('div',{'class':'like_p with-sign'}).decompose()\n",
    "        su = mu.find_all('div',{'class':'like_p'})\n",
    "    except:\n",
    "        texts.append('')\n",
    "        continue\n",
    "    \n",
    "    \n",
    "#     [j.find('div',{'class':'like_p with-sign'}).decompose() for j in su if j.find('div',{'class':'like_p with-sign'})]\n",
    "    text =''\n",
    "    for j in su:\n",
    "        text += j.text\n",
    "        \n",
    "    for j in stop:\n",
    "        text = text.replace(j, '')\n",
    "        text = text.replace('?', '.')\n",
    "        text = re.sub('\\d+', ' ', text)\n",
    "        text = re.sub('[^\\w.]', ' ', text)\n",
    "\n",
    "        final_s = ''\n",
    "        sentences = text.split('.')\n",
    "        for sen in sentences:\n",
    "            sen = sen.strip()\n",
    "            for tok in sen.split(' '):\n",
    "                tok = tok.strip()\n",
    "                if(tok.lower() not in set_stopWords):\n",
    "                    final_s += (tok + ' ')\n",
    "            final_s += '.'\n",
    "    texts.append(final_s)\n"
   ]
  },
  {
   "cell_type": "code",
   "execution_count": 44,
   "metadata": {},
   "outputs": [],
   "source": [
    "uri = []\n",
    "name =[]\n",
    "for i in urls:\n",
    "    uri.append(urls[i])\n",
    "    name.append(i)"
   ]
  },
  {
   "cell_type": "code",
   "execution_count": 53,
   "metadata": {},
   "outputs": [],
   "source": [
    "res = pd.DataFrame()\n",
    "res['name'] = name\n",
    "res['url'] = uri\n",
    "res['descr'] = texts\n",
    "res.head()\n",
    "res.to_csv('bolezni_lookmedbook.csv', index=False)"
   ]
  },
  {
   "cell_type": "code",
   "execution_count": null,
   "metadata": {},
   "outputs": [],
   "source": []
  },
  {
   "cell_type": "code",
   "execution_count": 48,
   "metadata": {},
   "outputs": [],
   "source": [
    "a = set()\n",
    "num = 0\n",
    "for i in bolezni['name']:\n",
    "    if i in urls:\n",
    "          num += 1"
   ]
  },
  {
   "cell_type": "code",
   "execution_count": 52,
   "metadata": {},
   "outputs": [
    {
     "data": {
      "text/plain": [
       "670"
      ]
     },
     "execution_count": 52,
     "metadata": {},
     "output_type": "execute_result"
    }
   ],
   "source": [
    "len(urls) - num"
   ]
  },
  {
   "cell_type": "code",
   "execution_count": null,
   "metadata": {},
   "outputs": [],
   "source": []
  }
 ],
 "metadata": {
  "kernelspec": {
   "display_name": "Python 3",
   "language": "python",
   "name": "python3"
  },
  "language_info": {
   "codemirror_mode": {
    "name": "ipython",
    "version": 3
   },
   "file_extension": ".py",
   "mimetype": "text/x-python",
   "name": "python",
   "nbconvert_exporter": "python",
   "pygments_lexer": "ipython3",
   "version": "3.5.2"
  }
 },
 "nbformat": 4,
 "nbformat_minor": 2
}

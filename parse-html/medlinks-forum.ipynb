{
 "cells": [
  {
   "cell_type": "code",
   "execution_count": 1,
   "metadata": {
    "collapsed": true
   },
   "outputs": [],
   "source": [
    "import re, json\n",
    "import pandas as pd\n",
    "from bs4 import BeautifulSoup\n",
    "from nltk.corpus import stopwords\n",
    "\n",
    "from tqdm import tqdm\n",
    "\n",
    "from os import listdir\n",
    "from os.path import isfile, join"
   ]
  },
  {
   "cell_type": "code",
   "execution_count": 2,
   "metadata": {
    "collapsed": true
   },
   "outputs": [],
   "source": [
    "mypath = '../forums/medlinks-forum/medlinks/'\n",
    "onlyfiles = [f for f in listdir(mypath) if isfile(join(mypath, f))]"
   ]
  },
  {
   "cell_type": "code",
   "execution_count": 3,
   "metadata": {
    "collapsed": true
   },
   "outputs": [],
   "source": [
    "delete_sections = ['ATTENTION', 'ATTACHMENTS', 'LISTOFREFERENCES', 'CLASSIFICATION']\n",
    "delete_sections = set(delete_sections)\n",
    "\n",
    "words = ['мм', 'рт', 'ст', 'г', 'м', 'мл', 'кг', 'мг', 'см', 'ч', 'е', 'х', 'a', 'd', 'b', 'мц', 'лг', 'бт',\n",
    "        'млн', 'фсг'] \n",
    "set_stopWords = stopwords.words(\"russian\") + words\n",
    "set_stopWords = set(set_stopWords)"
   ]
  },
  {
   "cell_type": "code",
   "execution_count": 4,
   "metadata": {
    "collapsed": true
   },
   "outputs": [],
   "source": [
    "def deleteStopWords(text):\n",
    "    stop = ['др. греч.', 'греч.', 'лат.', 'др.', 'и т. д', 'и т.д', 'т. е.', 'т.е.', 'т.н.', 'т. н.', 'т.п.', 'т. п.',\n",
    "                'т. д', 'т.д', 'мм. рт. ст.', 'мм рт. ст.', 'мм.рт.ст', 'МЕДПОИСК.РУ', 'Контактная форма ниже', 'ºС']\n",
    "    for i in stop:\n",
    "        text = text.replace(i, '')\n",
    "    return text"
   ]
  },
  {
   "cell_type": "code",
   "execution_count": 5,
   "metadata": {
    "collapsed": true
   },
   "outputs": [],
   "source": [
    "def clearText(text):\n",
    "    text = deleteStopWords(text)\n",
    "    text = text.replace('\\xad', '')\n",
    "    text = text.replace('\\n\\n', '.')\n",
    "    text = text.replace('..', '.')\n",
    "    text = text.replace(':', ' ')\n",
    "    text = text.replace(';', '.')\n",
    "    text = text.replace('?', '.')\n",
    "    text = text.replace('!', '.')\n",
    "    text = re.sub(r'\\[[\\d+]*\\]', '', text)\n",
    "    text = re.sub(r'\\([\\d+]*\\)', '', text)\n",
    "    text = re.sub('\\d+', ' ', text)\n",
    "    text = re.sub('[^\\w.]', ' ', text)\n",
    "    \n",
    "    final_s = ''\n",
    "    for sen in text.split('.'):\n",
    "        sen = sen.strip()\n",
    "        tmp_t = ''\n",
    "        for tok in sen.split(' '):\n",
    "            tok = tok.strip()\n",
    "            if(len(tok) <= 2):\n",
    "                continue\n",
    "            if(tok.lower() not in set_stopWords):\n",
    "                tmp_t += tok + ' '\n",
    "        if(len(tmp_t.split()) < 2):\n",
    "            continue\n",
    "        final_s += tmp_t + '.'\n",
    "    return final_s"
   ]
  },
  {
   "cell_type": "code",
   "execution_count": 6,
   "metadata": {
    "collapsed": true
   },
   "outputs": [],
   "source": [
    "def getFile(fileName):\n",
    "    data = json.load(open(mypath+fileName))\n",
    "    topics = data.keys()\n",
    "    final_s = ''\n",
    "    for topic in topics:\n",
    "        for i in data[topic]:\n",
    "            tmp = clearText(i)\n",
    "            final_s += tmp\n",
    "    return final_s"
   ]
  },
  {
   "cell_type": "code",
   "execution_count": null,
   "metadata": {
    "collapsed": true
   },
   "outputs": [],
   "source": []
  },
  {
   "cell_type": "code",
   "execution_count": 7,
   "metadata": {},
   "outputs": [
    {
     "name": "stderr",
     "output_type": "stream",
     "text": [
      "100%|██████████| 58/58 [00:44<00:00,  1.30it/s]\n"
     ]
    }
   ],
   "source": [
    "allText = ''\n",
    "for file in tqdm(onlyfiles):\n",
    "    fileText = getFile(file)\n",
    "    allText += fileText"
   ]
  },
  {
   "cell_type": "code",
   "execution_count": null,
   "metadata": {
    "collapsed": true
   },
   "outputs": [],
   "source": []
  },
  {
   "cell_type": "code",
   "execution_count": 8,
   "metadata": {},
   "outputs": [
    {
     "data": {
      "text/plain": [
       "106633240"
      ]
     },
     "execution_count": 8,
     "metadata": {},
     "output_type": "execute_result"
    }
   ],
   "source": [
    "len(allText)"
   ]
  },
  {
   "cell_type": "code",
   "execution_count": null,
   "metadata": {
    "collapsed": true
   },
   "outputs": [],
   "source": []
  },
  {
   "cell_type": "code",
   "execution_count": 9,
   "metadata": {
    "collapsed": true
   },
   "outputs": [],
   "source": [
    "# with open('medlinks-forum.txt', 'w+') as f:\n",
    "#     f.write(allText)"
   ]
  },
  {
   "cell_type": "code",
   "execution_count": null,
   "metadata": {
    "collapsed": true
   },
   "outputs": [],
   "source": []
  },
  {
   "cell_type": "code",
   "execution_count": null,
   "metadata": {
    "collapsed": true
   },
   "outputs": [],
   "source": []
  }
 ],
 "metadata": {
  "kernelspec": {
   "display_name": "Python 3",
   "language": "python",
   "name": "python3"
  },
  "language_info": {
   "codemirror_mode": {
    "name": "ipython",
    "version": 3
   },
   "file_extension": ".py",
   "mimetype": "text/x-python",
   "name": "python",
   "nbconvert_exporter": "python",
   "pygments_lexer": "ipython3",
   "version": "3.6.0"
  }
 },
 "nbformat": 4,
 "nbformat_minor": 2
}

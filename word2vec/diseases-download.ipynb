{
 "cells": [
  {
   "cell_type": "code",
   "execution_count": 1,
   "metadata": {
    "collapsed": true
   },
   "outputs": [],
   "source": [
    "import time, requests, codecs ,json , re\n",
    "from bs4 import BeautifulSoup\n",
    "from lxml import html\n",
    "import pandas as pd"
   ]
  },
  {
   "cell_type": "code",
   "execution_count": 2,
   "metadata": {
    "collapsed": true
   },
   "outputs": [],
   "source": [
    "s = requests.Session()"
   ]
  },
  {
   "cell_type": "code",
   "execution_count": 3,
   "metadata": {
    "collapsed": true
   },
   "outputs": [],
   "source": [
    "base_url = 'http://lekmed.ru/bolezni/'\n",
    "url_pages = ['', 'page_2.html', 'page_3.html', 'page_4.html', 'page_5.html', 'page_6.html', \n",
    "            'page_7.html', '351.html']\n",
    "other_pages = ['http://lekmed.ru/bolezni-401.html', 'http://lekmed.ru/bolezni-451.html']"
   ]
  },
  {
   "cell_type": "code",
   "execution_count": null,
   "metadata": {
    "collapsed": true
   },
   "outputs": [],
   "source": []
  },
  {
   "cell_type": "code",
   "execution_count": 4,
   "metadata": {
    "collapsed": true
   },
   "outputs": [],
   "source": [
    "diseasesDataFrame = pd.DataFrame()"
   ]
  },
  {
   "cell_type": "code",
   "execution_count": null,
   "metadata": {
    "collapsed": true
   },
   "outputs": [],
   "source": []
  },
  {
   "cell_type": "code",
   "execution_count": 5,
   "metadata": {},
   "outputs": [
    {
     "name": "stdout",
     "output_type": "stream",
     "text": [
      "\n",
      "page_2.html\n",
      "page_3.html\n",
      "page_4.html\n",
      "page_5.html\n",
      "page_6.html\n",
      "page_7.html\n",
      "351.html\n",
      "http://lekmed.ru/bolezni-401.html\n",
      "http://lekmed.ru/bolezni-451.html\n"
     ]
    }
   ],
   "source": [
    "diseasesArray = []\n",
    "for urli in url_pages:\n",
    "    url = base_url + urli\n",
    "    page = s.get(url)\n",
    "    if page.status_code == 200:\n",
    "        print(urli)\n",
    "        soup = BeautifulSoup(page.content, 'lxml')\n",
    "        mainDiv = soup.find_all(\"div\", {\"class\": \"blog_more\"})[0]\n",
    "        \n",
    "        ul = mainDiv.find_all(\"li\")\n",
    "        \n",
    "        for li in ul:\n",
    "            diseasesArray.append(li.text.strip())\n",
    "    else:\n",
    "        print(i,page.status_code)\n",
    "\n",
    "for urli in other_pages:\n",
    "    url = urli\n",
    "    page = s.get(url)\n",
    "    if page.status_code == 200:\n",
    "        print(urli)\n",
    "        soup = BeautifulSoup(page.content, 'lxml')\n",
    "        mainDiv = soup.find_all(\"div\", {\"class\": \"blog_more\"})[0]\n",
    "        \n",
    "        ul = mainDiv.find_all(\"li\")\n",
    "        \n",
    "        for li in ul:\n",
    "            diseasesArray.append(li.text.strip())\n",
    "    else:\n",
    "        print(i,page.status_code)"
   ]
  },
  {
   "cell_type": "code",
   "execution_count": 6,
   "metadata": {},
   "outputs": [
    {
     "data": {
      "text/plain": [
       "500"
      ]
     },
     "execution_count": 6,
     "metadata": {},
     "output_type": "execute_result"
    }
   ],
   "source": [
    "len(diseasesArray)"
   ]
  },
  {
   "cell_type": "code",
   "execution_count": 7,
   "metadata": {},
   "outputs": [],
   "source": [
    "diseasesDataFrame['disease'] = diseasesArray"
   ]
  },
  {
   "cell_type": "code",
   "execution_count": 8,
   "metadata": {},
   "outputs": [
    {
     "data": {
      "text/html": [
       "<div>\n",
       "<style>\n",
       "    .dataframe thead tr:only-child th {\n",
       "        text-align: right;\n",
       "    }\n",
       "\n",
       "    .dataframe thead th {\n",
       "        text-align: left;\n",
       "    }\n",
       "\n",
       "    .dataframe tbody tr th {\n",
       "        vertical-align: top;\n",
       "    }\n",
       "</style>\n",
       "<table border=\"1\" class=\"dataframe\">\n",
       "  <thead>\n",
       "    <tr style=\"text-align: right;\">\n",
       "      <th></th>\n",
       "      <th>disease</th>\n",
       "    </tr>\n",
       "  </thead>\n",
       "  <tbody>\n",
       "    <tr>\n",
       "      <th>0</th>\n",
       "      <td>Агранулоцитозы</td>\n",
       "    </tr>\n",
       "    <tr>\n",
       "      <th>1</th>\n",
       "      <td>Аденовирусные заболевания</td>\n",
       "    </tr>\n",
       "    <tr>\n",
       "      <th>2</th>\n",
       "      <td>Аденома сальных желез симметричная</td>\n",
       "    </tr>\n",
       "    <tr>\n",
       "      <th>3</th>\n",
       "      <td>Акантоз черный</td>\n",
       "    </tr>\n",
       "    <tr>\n",
       "      <th>4</th>\n",
       "      <td>Акнеформные дерматозы</td>\n",
       "    </tr>\n",
       "  </tbody>\n",
       "</table>\n",
       "</div>"
      ],
      "text/plain": [
       "                              disease\n",
       "0                      Агранулоцитозы\n",
       "1           Аденовирусные заболевания\n",
       "2  Аденома сальных желез симметричная\n",
       "3                      Акантоз черный\n",
       "4               Акнеформные дерматозы"
      ]
     },
     "execution_count": 8,
     "metadata": {},
     "output_type": "execute_result"
    }
   ],
   "source": [
    "diseasesDataFrame.head()"
   ]
  },
  {
   "cell_type": "code",
   "execution_count": 9,
   "metadata": {
    "collapsed": true
   },
   "outputs": [],
   "source": [
    "diseasesDataFrame.to_csv('diseases_all.csv', index=False)"
   ]
  },
  {
   "cell_type": "code",
   "execution_count": null,
   "metadata": {
    "collapsed": true
   },
   "outputs": [],
   "source": []
  }
 ],
 "metadata": {
  "kernelspec": {
   "display_name": "Python3 (ml)",
   "language": "python",
   "name": "ml"
  },
  "language_info": {
   "codemirror_mode": {
    "name": "ipython",
    "version": 3
   },
   "file_extension": ".py",
   "mimetype": "text/x-python",
   "name": "python",
   "nbconvert_exporter": "python",
   "pygments_lexer": "ipython3",
   "version": "3.6.0"
  }
 },
 "nbformat": 4,
 "nbformat_minor": 2
}

{
 "cells": [
  {
   "cell_type": "code",
   "execution_count": 72,
   "metadata": {},
   "outputs": [],
   "source": [
    "import os\n",
    "import pandas as pd\n",
    "import numpy as np\n",
    "\n",
    "from keras.datasets import mnist\n",
    "from keras.models import Model\n",
    "from keras.layers import Input, Flatten, Dense, Dropout, Lambda\n",
    "from keras.optimizers import RMSprop, SGD\n",
    "from keras import backend as K\n",
    "\n",
    "from sklearn.model_selection import train_test_split\n",
    "from sklearn.metrics import classification_report\n",
    "\n",
    "import tensorflow as tf\n",
    "\n",
    "import warnings\n",
    "warnings.filterwarnings(\"ignore\")\n",
    "\n",
    "import matplotlib.pyplot as plt\n",
    "import seaborn as sns\n",
    "sns.set()\n",
    "%matplotlib inline"
   ]
  },
  {
   "cell_type": "code",
   "execution_count": 3,
   "metadata": {},
   "outputs": [
    {
     "name": "stdout",
     "output_type": "stream",
     "text": [
      "load from .txt file\n"
     ]
    }
   ],
   "source": [
    "X_topic = []\n",
    "Y_topic = []\n",
    "\n",
    "X_path = 'topic_vectors.txt'\n",
    "Y_path = 'topic_names.txt'\n",
    "\n",
    "if(os.path.isfile(X_path) and os.path.isfile(Y_path)):\n",
    "    print('load from .txt file')\n",
    "    X_topic = np.loadtxt(X_path)\n",
    "    with open(Y_path, 'r') as f:\n",
    "        for line in f.readlines():\n",
    "            Y_topic.append(line.replace('\\n',''))\n",
    "    Y_topic = np.array(Y_topic)"
   ]
  },
  {
   "cell_type": "code",
   "execution_count": 4,
   "metadata": {},
   "outputs": [],
   "source": [
    "name2vector = {}\n",
    "for i in range(X_topic.shape[0]):\n",
    "    name2vector[str(Y_topic[i])] = X_topic[i]"
   ]
  },
  {
   "cell_type": "code",
   "execution_count": 5,
   "metadata": {
    "collapsed": true
   },
   "outputs": [],
   "source": [
    "siamese_data = pd.read_csv('siamese_data.csv')"
   ]
  },
  {
   "cell_type": "code",
   "execution_count": 6,
   "metadata": {},
   "outputs": [
    {
     "data": {
      "text/plain": [
       "(60105, 3)"
      ]
     },
     "execution_count": 6,
     "metadata": {},
     "output_type": "execute_result"
    }
   ],
   "source": [
    "siamese_data.shape"
   ]
  },
  {
   "cell_type": "code",
   "execution_count": 7,
   "metadata": {},
   "outputs": [
    {
     "data": {
      "text/html": [
       "<div>\n",
       "<style>\n",
       "    .dataframe thead tr:only-child th {\n",
       "        text-align: right;\n",
       "    }\n",
       "\n",
       "    .dataframe thead th {\n",
       "        text-align: left;\n",
       "    }\n",
       "\n",
       "    .dataframe tbody tr th {\n",
       "        vertical-align: top;\n",
       "    }\n",
       "</style>\n",
       "<table border=\"1\" class=\"dataframe\">\n",
       "  <thead>\n",
       "    <tr style=\"text-align: right;\">\n",
       "      <th></th>\n",
       "      <th>name1</th>\n",
       "      <th>name2</th>\n",
       "      <th>target</th>\n",
       "    </tr>\n",
       "  </thead>\n",
       "  <tbody>\n",
       "    <tr>\n",
       "      <th>0</th>\n",
       "      <td>Трепетание предсердий</td>\n",
       "      <td>Сочетанные пороки сердца</td>\n",
       "      <td>1</td>\n",
       "    </tr>\n",
       "    <tr>\n",
       "      <th>1</th>\n",
       "      <td>Синдром WPW</td>\n",
       "      <td>Трепетание предсердий</td>\n",
       "      <td>1</td>\n",
       "    </tr>\n",
       "    <tr>\n",
       "      <th>2</th>\n",
       "      <td>Сердечная астма</td>\n",
       "      <td>Гемоперикард</td>\n",
       "      <td>1</td>\n",
       "    </tr>\n",
       "    <tr>\n",
       "      <th>3</th>\n",
       "      <td>Гемоперикард</td>\n",
       "      <td>Постинфарктная стенокардия</td>\n",
       "      <td>1</td>\n",
       "    </tr>\n",
       "    <tr>\n",
       "      <th>4</th>\n",
       "      <td>Общий артериальный ствол</td>\n",
       "      <td>Артериальная гипертензия</td>\n",
       "      <td>1</td>\n",
       "    </tr>\n",
       "  </tbody>\n",
       "</table>\n",
       "</div>"
      ],
      "text/plain": [
       "                      name1                       name2  target\n",
       "0     Трепетание предсердий    Сочетанные пороки сердца       1\n",
       "1               Синдром WPW       Трепетание предсердий       1\n",
       "2           Сердечная астма                Гемоперикард       1\n",
       "3              Гемоперикард  Постинфарктная стенокардия       1\n",
       "4  Общий артериальный ствол    Артериальная гипертензия       1"
      ]
     },
     "execution_count": 7,
     "metadata": {},
     "output_type": "execute_result"
    }
   ],
   "source": [
    "siamese_data.head()"
   ]
  },
  {
   "cell_type": "code",
   "execution_count": null,
   "metadata": {
    "collapsed": true
   },
   "outputs": [],
   "source": []
  },
  {
   "cell_type": "markdown",
   "metadata": {},
   "source": [
    "## Data"
   ]
  },
  {
   "cell_type": "code",
   "execution_count": 8,
   "metadata": {
    "collapsed": true
   },
   "outputs": [],
   "source": [
    "emb_size = 250"
   ]
  },
  {
   "cell_type": "code",
   "execution_count": 9,
   "metadata": {
    "collapsed": true
   },
   "outputs": [],
   "source": [
    "X = np.zeros((siamese_data.shape[0], 2, emb_size))\n",
    "y = np.array(siamese_data['target'].values)"
   ]
  },
  {
   "cell_type": "code",
   "execution_count": 10,
   "metadata": {
    "collapsed": true
   },
   "outputs": [],
   "source": [
    "for d, i in siamese_data.iterrows():\n",
    "    X[d, 0, :] = name2vector[i[0]]\n",
    "    X[d, 1, :] = name2vector[i[1]]"
   ]
  },
  {
   "cell_type": "code",
   "execution_count": 11,
   "metadata": {
    "collapsed": true
   },
   "outputs": [],
   "source": [
    "X_train, X_test, y_train, y_test = train_test_split(X, y, test_size=0.4, random_state=42, stratify=y)"
   ]
  },
  {
   "cell_type": "code",
   "execution_count": 12,
   "metadata": {},
   "outputs": [
    {
     "data": {
      "text/plain": [
       "((36063, 2, 250), (24042, 2, 250), (36063,), (24042,))"
      ]
     },
     "execution_count": 12,
     "metadata": {},
     "output_type": "execute_result"
    }
   ],
   "source": [
    "X_train.shape, X_test.shape, y_train.shape, y_test.shape"
   ]
  },
  {
   "cell_type": "code",
   "execution_count": 13,
   "metadata": {},
   "outputs": [
    {
     "data": {
      "text/plain": [
       "(array([33924,  2139]), array([22616,  1426]))"
      ]
     },
     "execution_count": 13,
     "metadata": {},
     "output_type": "execute_result"
    }
   ],
   "source": [
    "np.bincount(y_train), np.bincount(y_test)"
   ]
  },
  {
   "cell_type": "code",
   "execution_count": null,
   "metadata": {
    "collapsed": true
   },
   "outputs": [],
   "source": []
  },
  {
   "cell_type": "markdown",
   "metadata": {},
   "source": [
    "## Model"
   ]
  },
  {
   "cell_type": "code",
   "execution_count": 14,
   "metadata": {
    "collapsed": true
   },
   "outputs": [],
   "source": [
    "def euclidean_distance(vects):\n",
    "    x, y = vects\n",
    "    return K.sqrt(K.maximum(K.sum(K.square(x - y), axis=1, keepdims=True), K.epsilon()))\n",
    "\n",
    "def eucl_dist_output_shape(shapes):\n",
    "    shape1, shape2 = shapes\n",
    "    return (shape1[0], 1)\n",
    "\n",
    "def contrastive_loss(y_true, y_pred):\n",
    "    margin = 1\n",
    "    return K.mean(y_true * K.square(y_pred) +\n",
    "                  (1 - y_true) * K.square(K.maximum(margin - y_pred, 0)))"
   ]
  },
  {
   "cell_type": "code",
   "execution_count": 15,
   "metadata": {
    "collapsed": true
   },
   "outputs": [],
   "source": [
    "def create_base_network(input_shape):\n",
    "    input = Input(shape=input_shape)\n",
    "    x = Dense(176, activation='relu')(input)\n",
    "    x = Dropout(0.1)(x)\n",
    "    x = Dense(128, activation='relu')(x)\n",
    "    return Model(input, x)"
   ]
  },
  {
   "cell_type": "code",
   "execution_count": 16,
   "metadata": {
    "collapsed": true
   },
   "outputs": [],
   "source": [
    "def compute_accuracy(y_true, y_pred):\n",
    "    pred = y_pred.ravel() < 0.5\n",
    "    return np.mean(pred == y_true)\n",
    "\n",
    "def accuracy(y_true, y_pred):\n",
    "    return K.mean(K.equal(y_true, K.cast(y_pred < 0.5, y_true.dtype)))"
   ]
  },
  {
   "cell_type": "code",
   "execution_count": 17,
   "metadata": {},
   "outputs": [],
   "source": [
    "input_shape = (250,)\n",
    "base_network = create_base_network(input_shape)\n",
    "\n",
    "input_a = Input(shape=input_shape)\n",
    "input_b = Input(shape=input_shape)\n",
    "\n",
    "processed_a = base_network(input_a)\n",
    "processed_b = base_network(input_b)\n",
    "\n",
    "distance = Lambda(euclidean_distance,\n",
    "                  output_shape=eucl_dist_output_shape)([processed_a, processed_b])\n",
    "\n",
    "model = Model([input_a, input_b], distance)"
   ]
  },
  {
   "cell_type": "code",
   "execution_count": 18,
   "metadata": {
    "collapsed": true
   },
   "outputs": [],
   "source": [
    "rms = RMSprop()\n",
    "model.compile(loss=contrastive_loss, optimizer=rms, metrics=[accuracy])"
   ]
  },
  {
   "cell_type": "code",
   "execution_count": null,
   "metadata": {
    "collapsed": true
   },
   "outputs": [],
   "source": []
  },
  {
   "cell_type": "code",
   "execution_count": 19,
   "metadata": {
    "scrolled": true
   },
   "outputs": [
    {
     "name": "stdout",
     "output_type": "stream",
     "text": [
      "Train on 36063 samples, validate on 24042 samples\n",
      "Epoch 1/50\n",
      "36063/36063 [==============================] - 2s - loss: 0.0493 - accuracy: 0.9420 - val_loss: 0.0400 - val_accuracy: 0.9517\n",
      "Epoch 2/50\n",
      "36063/36063 [==============================] - 2s - loss: 0.0389 - accuracy: 0.9472 - val_loss: 0.0337 - val_accuracy: 0.9568\n",
      "Epoch 3/50\n",
      "36063/36063 [==============================] - 2s - loss: 0.0338 - accuracy: 0.9531 - val_loss: 0.0364 - val_accuracy: 0.9634\n",
      "Epoch 4/50\n",
      "36063/36063 [==============================] - 2s - loss: 0.0301 - accuracy: 0.9585 - val_loss: 0.0312 - val_accuracy: 0.9668\n",
      "Epoch 5/50\n",
      "36063/36063 [==============================] - 2s - loss: 0.0275 - accuracy: 0.9627 - val_loss: 0.0260 - val_accuracy: 0.9639\n",
      "Epoch 6/50\n",
      "36063/36063 [==============================] - 2s - loss: 0.0254 - accuracy: 0.9665 - val_loss: 0.0267 - val_accuracy: 0.9713\n",
      "Epoch 7/50\n",
      "36063/36063 [==============================] - 3s - loss: 0.0238 - accuracy: 0.9699 - val_loss: 0.0235 - val_accuracy: 0.9711\n",
      "Epoch 8/50\n",
      "36063/36063 [==============================] - 2s - loss: 0.0222 - accuracy: 0.9707 - val_loss: 0.0234 - val_accuracy: 0.9698\n",
      "Epoch 9/50\n",
      "36063/36063 [==============================] - 2s - loss: 0.0209 - accuracy: 0.9738 - val_loss: 0.0225 - val_accuracy: 0.9741\n",
      "Epoch 10/50\n",
      "36063/36063 [==============================] - 2s - loss: 0.0201 - accuracy: 0.9752 - val_loss: 0.0217 - val_accuracy: 0.9757\n",
      "Epoch 11/50\n",
      "36063/36063 [==============================] - 2s - loss: 0.0190 - accuracy: 0.9763 - val_loss: 0.0208 - val_accuracy: 0.9733\n",
      "Epoch 12/50\n",
      "36063/36063 [==============================] - 2s - loss: 0.0183 - accuracy: 0.9772 - val_loss: 0.0197 - val_accuracy: 0.9761\n",
      "Epoch 13/50\n",
      "36063/36063 [==============================] - 2s - loss: 0.0173 - accuracy: 0.9792 - val_loss: 0.0195 - val_accuracy: 0.9748\n",
      "Epoch 14/50\n",
      "36063/36063 [==============================] - 2s - loss: 0.0165 - accuracy: 0.9803 - val_loss: 0.0205 - val_accuracy: 0.9774\n",
      "Epoch 15/50\n",
      "36063/36063 [==============================] - 2s - loss: 0.0159 - accuracy: 0.9811 - val_loss: 0.0177 - val_accuracy: 0.9793\n",
      "Epoch 16/50\n",
      "36063/36063 [==============================] - 2s - loss: 0.0153 - accuracy: 0.9821 - val_loss: 0.0188 - val_accuracy: 0.9775\n",
      "Epoch 17/50\n",
      "36063/36063 [==============================] - 2s - loss: 0.0148 - accuracy: 0.9832 - val_loss: 0.0172 - val_accuracy: 0.9795\n",
      "Epoch 18/50\n",
      "36063/36063 [==============================] - 3s - loss: 0.0143 - accuracy: 0.9834 - val_loss: 0.0170 - val_accuracy: 0.9803\n",
      "Epoch 19/50\n",
      "36063/36063 [==============================] - 2s - loss: 0.0139 - accuracy: 0.9845 - val_loss: 0.0171 - val_accuracy: 0.9789\n",
      "Epoch 20/50\n",
      "36063/36063 [==============================] - 2s - loss: 0.0135 - accuracy: 0.9845 - val_loss: 0.0163 - val_accuracy: 0.9813\n",
      "Epoch 21/50\n",
      "36063/36063 [==============================] - 2s - loss: 0.0129 - accuracy: 0.9852 - val_loss: 0.0167 - val_accuracy: 0.9807\n",
      "Epoch 22/50\n",
      "36063/36063 [==============================] - 2s - loss: 0.0127 - accuracy: 0.9859 - val_loss: 0.0158 - val_accuracy: 0.9822\n",
      "Epoch 23/50\n",
      "36063/36063 [==============================] - 2s - loss: 0.0123 - accuracy: 0.9868 - val_loss: 0.0166 - val_accuracy: 0.9804\n",
      "Epoch 24/50\n",
      "36063/36063 [==============================] - 3s - loss: 0.0120 - accuracy: 0.9866 - val_loss: 0.0155 - val_accuracy: 0.9824\n",
      "Epoch 25/50\n",
      "36063/36063 [==============================] - 3s - loss: 0.0117 - accuracy: 0.9875 - val_loss: 0.0164 - val_accuracy: 0.9808\n",
      "Epoch 26/50\n",
      "36063/36063 [==============================] - 3s - loss: 0.0114 - accuracy: 0.9889 - val_loss: 0.0163 - val_accuracy: 0.9818\n",
      "Epoch 27/50\n",
      "36063/36063 [==============================] - 3s - loss: 0.0112 - accuracy: 0.9881 - val_loss: 0.0156 - val_accuracy: 0.9829\n",
      "Epoch 28/50\n",
      "36063/36063 [==============================] - 3s - loss: 0.0111 - accuracy: 0.9888 - val_loss: 0.0149 - val_accuracy: 0.9841\n",
      "Epoch 29/50\n",
      "36063/36063 [==============================] - 2s - loss: 0.0106 - accuracy: 0.9893 - val_loss: 0.0157 - val_accuracy: 0.9820\n",
      "Epoch 30/50\n",
      "36063/36063 [==============================] - 2s - loss: 0.0104 - accuracy: 0.9899 - val_loss: 0.0150 - val_accuracy: 0.9832\n",
      "Epoch 31/50\n",
      "36063/36063 [==============================] - 2s - loss: 0.0104 - accuracy: 0.9892 - val_loss: 0.0146 - val_accuracy: 0.9837\n",
      "Epoch 32/50\n",
      "36063/36063 [==============================] - 2s - loss: 0.0101 - accuracy: 0.9902 - val_loss: 0.0145 - val_accuracy: 0.9846\n",
      "Epoch 33/50\n",
      "36063/36063 [==============================] - 2s - loss: 0.0099 - accuracy: 0.9904 - val_loss: 0.0138 - val_accuracy: 0.9850\n",
      "Epoch 34/50\n",
      "36063/36063 [==============================] - 2s - loss: 0.0094 - accuracy: 0.9904 - val_loss: 0.0143 - val_accuracy: 0.9842\n",
      "Epoch 35/50\n",
      "36063/36063 [==============================] - 2s - loss: 0.0095 - accuracy: 0.9905 - val_loss: 0.0144 - val_accuracy: 0.9835\n",
      "Epoch 36/50\n",
      "36063/36063 [==============================] - 2s - loss: 0.0093 - accuracy: 0.9904 - val_loss: 0.0143 - val_accuracy: 0.9832\n",
      "Epoch 37/50\n",
      "36063/36063 [==============================] - 2s - loss: 0.0093 - accuracy: 0.9912 - val_loss: 0.0141 - val_accuracy: 0.9841\n",
      "Epoch 38/50\n",
      "36063/36063 [==============================] - 2s - loss: 0.0092 - accuracy: 0.9911 - val_loss: 0.0137 - val_accuracy: 0.9854\n",
      "Epoch 39/50\n",
      "36063/36063 [==============================] - 2s - loss: 0.0087 - accuracy: 0.9920 - val_loss: 0.0146 - val_accuracy: 0.9843\n",
      "Epoch 40/50\n",
      "36063/36063 [==============================] - 2s - loss: 0.0086 - accuracy: 0.9919 - val_loss: 0.0134 - val_accuracy: 0.9854\n",
      "Epoch 41/50\n",
      "36063/36063 [==============================] - 2s - loss: 0.0086 - accuracy: 0.9924 - val_loss: 0.0138 - val_accuracy: 0.9868\n",
      "Epoch 42/50\n",
      "36063/36063 [==============================] - 2s - loss: 0.0086 - accuracy: 0.9919 - val_loss: 0.0131 - val_accuracy: 0.9861\n",
      "Epoch 43/50\n",
      "36063/36063 [==============================] - 2s - loss: 0.0081 - accuracy: 0.9925 - val_loss: 0.0133 - val_accuracy: 0.9855\n",
      "Epoch 44/50\n",
      "36063/36063 [==============================] - 2s - loss: 0.0083 - accuracy: 0.9926 - val_loss: 0.0137 - val_accuracy: 0.9858\n",
      "Epoch 45/50\n",
      "36063/36063 [==============================] - 2s - loss: 0.0082 - accuracy: 0.9928 - val_loss: 0.0131 - val_accuracy: 0.9859\n",
      "Epoch 46/50\n",
      "36063/36063 [==============================] - 3s - loss: 0.0080 - accuracy: 0.9930 - val_loss: 0.0128 - val_accuracy: 0.9868\n",
      "Epoch 47/50\n",
      "36063/36063 [==============================] - 3s - loss: 0.0080 - accuracy: 0.9927 - val_loss: 0.0133 - val_accuracy: 0.9861\n",
      "Epoch 48/50\n",
      "36063/36063 [==============================] - 3s - loss: 0.0079 - accuracy: 0.9927 - val_loss: 0.0127 - val_accuracy: 0.9867\n",
      "Epoch 49/50\n",
      "36063/36063 [==============================] - 3s - loss: 0.0076 - accuracy: 0.9934 - val_loss: 0.0119 - val_accuracy: 0.9875\n",
      "Epoch 50/50\n",
      "36063/36063 [==============================] - 2s - loss: 0.0076 - accuracy: 0.9934 - val_loss: 0.0135 - val_accuracy: 0.9851\n"
     ]
    }
   ],
   "source": [
    "history = model.fit([X_train[:, 0, :], X_train[:, 1, :]], y_train,\n",
    "          batch_size=128,\n",
    "          epochs=50,\n",
    "          validation_data=([X_test[:, 0, :], X_test[:, 1, :]], y_test))"
   ]
  },
  {
   "cell_type": "code",
   "execution_count": 20,
   "metadata": {
    "collapsed": true
   },
   "outputs": [],
   "source": [
    "y_pred = model.predict([X_test[:, 0, :], X_test[:, 1, :]])"
   ]
  },
  {
   "cell_type": "code",
   "execution_count": 21,
   "metadata": {},
   "outputs": [],
   "source": [
    "y_pred_np = y_pred.ravel() < 0.5"
   ]
  },
  {
   "cell_type": "code",
   "execution_count": 22,
   "metadata": {},
   "outputs": [
    {
     "name": "stdout",
     "output_type": "stream",
     "text": [
      "             precision    recall  f1-score   support\n",
      "\n",
      "          0       0.99      1.00      0.99     22616\n",
      "          1       0.97      0.77      0.86      1426\n",
      "\n",
      "avg / total       0.98      0.99      0.98     24042\n",
      "\n"
     ]
    }
   ],
   "source": [
    "print(classification_report(y_test, y_pred_np))"
   ]
  },
  {
   "cell_type": "code",
   "execution_count": null,
   "metadata": {
    "collapsed": true
   },
   "outputs": [],
   "source": []
  },
  {
   "cell_type": "code",
   "execution_count": 23,
   "metadata": {},
   "outputs": [
    {
     "data": {
      "image/png": "[encoded data removed]",
      "text/plain": [
       "<matplotlib.figure.Figure at 0x112defc18>"
      ]
     },
     "metadata": {},
     "output_type": "display_data"
    }
   ],
   "source": [
    "plt.plot(range(len(history.history['loss'])), history.history['loss'])\n",
    "plt.show()"
   ]
  },
  {
   "cell_type": "code",
   "execution_count": 24,
   "metadata": {},
   "outputs": [
    {
     "data": {
      "image/png": "[encoded data removed]",
      "text/plain": [
       "<matplotlib.figure.Figure at 0x11374a080>"
      ]
     },
     "metadata": {},
     "output_type": "display_data"
    }
   ],
   "source": [
    "plt.plot(range(len(history.history['loss'])), history.history['val_loss'])\n",
    "plt.show()"
   ]
  },
  {
   "cell_type": "code",
   "execution_count": 25,
   "metadata": {},
   "outputs": [
    {
     "data": {
      "image/png": "[encoded data removed]",
      "text/plain": [
       "<matplotlib.figure.Figure at 0x1138d5828>"
      ]
     },
     "metadata": {},
     "output_type": "display_data"
    }
   ],
   "source": [
    "plt.plot(range(len(history.history['loss'])), history.history['accuracy'])\n",
    "plt.show()"
   ]
  },
  {
   "cell_type": "code",
   "execution_count": 26,
   "metadata": {},
   "outputs": [
    {
     "data": {
      "image/png": "[encoded data removed]",
      "text/plain": [
       "<matplotlib.figure.Figure at 0x105b2a278>"
      ]
     },
     "metadata": {},
     "output_type": "display_data"
    }
   ],
   "source": [
    "plt.plot(range(len(history.history['loss'])), history.history['val_accuracy'])\n",
    "plt.show()"
   ]
  },
  {
   "cell_type": "code",
   "execution_count": null,
   "metadata": {
    "collapsed": true
   },
   "outputs": [],
   "source": []
  },
  {
   "cell_type": "markdown",
   "metadata": {},
   "source": [
    "## Test"
   ]
  },
  {
   "cell_type": "code",
   "execution_count": 27,
   "metadata": {},
   "outputs": [
    {
     "data": {
      "text/plain": [
       "array(['Hallux valgus', 'HELLP-синдром', 'Абдоминальная мигрень', ...,\n",
       "       'Ячмень на веке', 'Ячмень у ребенка', 'Ящур'], dtype='<U59')"
      ]
     },
     "execution_count": 27,
     "metadata": {},
     "output_type": "execute_result"
    }
   ],
   "source": [
    "Y_topic"
   ]
  },
  {
   "cell_type": "code",
   "execution_count": null,
   "metadata": {},
   "outputs": [],
   "source": []
  },
  {
   "cell_type": "code",
   "execution_count": 28,
   "metadata": {
    "collapsed": true
   },
   "outputs": [],
   "source": [
    "test = np.zeros((1, 2, emb_size))"
   ]
  },
  {
   "cell_type": "code",
   "execution_count": 29,
   "metadata": {},
   "outputs": [],
   "source": [
    "a = name2vector['Инородное тело уретры']\n",
    "b = name2vector['Аортальный стеноз']\n",
    "test[0, 0, :] = a\n",
    "test[0, 1, :] = b"
   ]
  },
  {
   "cell_type": "code",
   "execution_count": 81,
   "metadata": {},
   "outputs": [
    {
     "data": {
      "text/plain": [
       "array([[1.3642801]], dtype=float32)"
      ]
     },
     "execution_count": 81,
     "metadata": {},
     "output_type": "execute_result"
    }
   ],
   "source": [
    "model.predict([test[:, 0, :], test[:, 1, :]])"
   ]
  },
  {
   "cell_type": "code",
   "execution_count": 31,
   "metadata": {},
   "outputs": [
    {
     "data": {
      "text/html": [
       "<div>\n",
       "<style>\n",
       "    .dataframe thead tr:only-child th {\n",
       "        text-align: right;\n",
       "    }\n",
       "\n",
       "    .dataframe thead th {\n",
       "        text-align: left;\n",
       "    }\n",
       "\n",
       "    .dataframe tbody tr th {\n",
       "        vertical-align: top;\n",
       "    }\n",
       "</style>\n",
       "<table border=\"1\" class=\"dataframe\">\n",
       "  <thead>\n",
       "    <tr style=\"text-align: right;\">\n",
       "      <th></th>\n",
       "      <th>name1</th>\n",
       "      <th>name2</th>\n",
       "      <th>target</th>\n",
       "    </tr>\n",
       "  </thead>\n",
       "  <tbody>\n",
       "    <tr>\n",
       "      <th>30698</th>\n",
       "      <td>Эпидуральная гематома</td>\n",
       "      <td>Руминационное расстройство</td>\n",
       "      <td>0</td>\n",
       "    </tr>\n",
       "    <tr>\n",
       "      <th>58883</th>\n",
       "      <td>Синдром Геллера</td>\n",
       "      <td>Острый панкреатит</td>\n",
       "      <td>0</td>\n",
       "    </tr>\n",
       "    <tr>\n",
       "      <th>25215</th>\n",
       "      <td>Острая пневмония</td>\n",
       "      <td>Аллергия на цитрусовые</td>\n",
       "      <td>0</td>\n",
       "    </tr>\n",
       "    <tr>\n",
       "      <th>23554</th>\n",
       "      <td>Эхинококкоз легких</td>\n",
       "      <td>Полное предлежание плаценты</td>\n",
       "      <td>0</td>\n",
       "    </tr>\n",
       "    <tr>\n",
       "      <th>29106</th>\n",
       "      <td>Окклюзия сонных артерий</td>\n",
       "      <td>Менингиома зрительного нерва</td>\n",
       "      <td>0</td>\n",
       "    </tr>\n",
       "  </tbody>\n",
       "</table>\n",
       "</div>"
      ],
      "text/plain": [
       "                         name1                         name2  target\n",
       "30698    Эпидуральная гематома    Руминационное расстройство       0\n",
       "58883          Синдром Геллера             Острый панкреатит       0\n",
       "25215         Острая пневмония        Аллергия на цитрусовые       0\n",
       "23554       Эхинококкоз легких   Полное предлежание плаценты       0\n",
       "29106  Окклюзия сонных артерий  Менингиома зрительного нерва       0"
      ]
     },
     "execution_count": 31,
     "metadata": {},
     "output_type": "execute_result"
    }
   ],
   "source": [
    "siamese_data.sample(5)"
   ]
  },
  {
   "cell_type": "code",
   "execution_count": null,
   "metadata": {
    "collapsed": true
   },
   "outputs": [],
   "source": []
  },
  {
   "cell_type": "code",
   "execution_count": 32,
   "metadata": {
    "collapsed": true
   },
   "outputs": [],
   "source": [
    "def getClosestDis(dis_name, model, Y_topic, emb_size, cnt):\n",
    "    test = np.zeros((len(Y_topic), 2, emb_size))\n",
    "    for ind, i in enumerate(Y_topic):\n",
    "        test[ind, 0, :] = name2vector[dis_name]\n",
    "        test[ind, 1, :] = name2vector[i]\n",
    "        \n",
    "    score = model.predict([test[:, 0, :], test[:, 1, :]]).ravel()\n",
    "    indexs = np.argsort(np.array(score))\n",
    "    \n",
    "    res = [(Y_topic[i]) for i in indexs[1:cnt]]\n",
    "    return res"
   ]
  },
  {
   "cell_type": "code",
   "execution_count": 77,
   "metadata": {},
   "outputs": [
    {
     "data": {
      "text/plain": [
       "['Стафилококковая пневмония',\n",
       " 'Бронхит',\n",
       " 'Острый обструктивный бронхит',\n",
       " 'Туберкулез легких',\n",
       " 'Пневмосклероз',\n",
       " 'Обструктивный бронхит',\n",
       " 'Аспирационная пневмония',\n",
       " 'Затяжная пневмония',\n",
       " 'Бронхит курильщика']"
      ]
     },
     "execution_count": 77,
     "metadata": {},
     "output_type": "execute_result"
    }
   ],
   "source": [
    "getClosestDis('Острая пневмония', model, Y_topic, emb_size, 10)"
   ]
  },
  {
   "cell_type": "code",
   "execution_count": null,
   "metadata": {
    "collapsed": true
   },
   "outputs": [],
   "source": []
  },
  {
   "cell_type": "code",
   "execution_count": 34,
   "metadata": {
    "collapsed": true
   },
   "outputs": [],
   "source": [
    "def cos_sim(a, b):\n",
    "    dot_product = np.dot(a, b)\n",
    "    norm_a = np.linalg.norm(a)\n",
    "    norm_b = np.linalg.norm(b)\n",
    "    return dot_product / (norm_a * norm_b)"
   ]
  },
  {
   "cell_type": "code",
   "execution_count": 35,
   "metadata": {
    "collapsed": true
   },
   "outputs": [],
   "source": [
    "def getSim(vec, cnt):\n",
    "    sim = []\n",
    "    for i in X_topic:\n",
    "        sim.append(cos_sim(vec, i))\n",
    "    indexs = np.argsort(np.array(sim))\n",
    "    \n",
    "    res = [(Y_topic[i]) for i in indexs[-cnt:]]\n",
    "    return res"
   ]
  },
  {
   "cell_type": "code",
   "execution_count": 78,
   "metadata": {},
   "outputs": [
    {
     "data": {
      "text/plain": [
       "['Стрептококковая пневмония',\n",
       " 'Пневмококковая пневмония',\n",
       " 'Вирусная пневмония',\n",
       " 'Затяжная пневмония',\n",
       " 'Очаговая пневмония',\n",
       " 'Микоплазменная пневмония',\n",
       " 'Бактериальная пневмония',\n",
       " 'Долевая пневмония',\n",
       " 'Пневмония',\n",
       " 'Острая пневмония']"
      ]
     },
     "execution_count": 78,
     "metadata": {},
     "output_type": "execute_result"
    }
   ],
   "source": [
    "getSim(name2vector['Острая пневмония'], 10)"
   ]
  },
  {
   "cell_type": "code",
   "execution_count": null,
   "metadata": {
    "collapsed": true
   },
   "outputs": [],
   "source": []
  },
  {
   "cell_type": "code",
   "execution_count": 85,
   "metadata": {
    "collapsed": true
   },
   "outputs": [],
   "source": [
    "def getEmbedding(model, input):\n",
    "    get_outputs = K.function([[model.layers[0].input, model.layers[1].input], K.learning_phase()], \n",
    "                             [model.layers[2].layers[-1].output])\n",
    "    ker_output = get_outputs([input, False])[0]\n",
    "    return ker_output"
   ]
  },
  {
   "cell_type": "code",
   "execution_count": 90,
   "metadata": {},
   "outputs": [],
   "source": [
    "# getEmbedding(model, [test[:, 0, :], test[:, 1, :]])"
   ]
  },
  {
   "cell_type": "code",
   "execution_count": null,
   "metadata": {
    "collapsed": true
   },
   "outputs": [],
   "source": []
  }
 ],
 "metadata": {
  "kernelspec": {
   "display_name": "Python3 (ml)",
   "language": "python",
   "name": "ml"
  },
  "language_info": {
   "codemirror_mode": {
    "name": "ipython",
    "version": 3
   },
   "file_extension": ".py",
   "mimetype": "text/x-python",
   "name": "python",
   "nbconvert_exporter": "python",
   "pygments_lexer": "ipython3",
   "version": "3.6.0"
  }
 },
 "nbformat": 4,
 "nbformat_minor": 2
}

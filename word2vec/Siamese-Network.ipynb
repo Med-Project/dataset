{
 "cells": [
  {
   "cell_type": "code",
   "execution_count": 2,
   "metadata": {},
   "outputs": [],
   "source": [
    "import os\n",
    "import pandas as pd\n",
    "import numpy as np\n",
    "\n",
    "from keras.datasets import mnist\n",
    "from keras.models import Model\n",
    "from keras.layers import Input, Flatten, Dense, Dropout, Lambda\n",
    "from keras.optimizers import RMSprop, SGD\n",
    "from keras import backend as K\n",
    "\n",
    "from sklearn.model_selection import train_test_split\n",
    "from sklearn.metrics import classification_report\n",
    "\n",
    "import tensorflow as tf\n",
    "\n",
    "import warnings\n",
    "warnings.filterwarnings(\"ignore\")\n",
    "\n",
    "import matplotlib.pyplot as plt\n",
    "import seaborn as sns\n",
    "sns.set()\n",
    "%matplotlib inline"
   ]
  },
  {
   "cell_type": "code",
   "execution_count": 3,
   "metadata": {},
   "outputs": [
    {
     "name": "stdout",
     "output_type": "stream",
     "text": [
      "load from .txt file\n"
     ]
    }
   ],
   "source": [
    "X_topic = []\n",
    "Y_topic = []\n",
    "\n",
    "X_path = 'topic_vectors.txt'\n",
    "Y_path = 'topic_names.txt'\n",
    "\n",
    "if(os.path.isfile(X_path) and os.path.isfile(Y_path)):\n",
    "    print('load from .txt file')\n",
    "    X_topic = np.loadtxt(X_path)\n",
    "    with open(Y_path, 'r') as f:\n",
    "        for line in f.readlines():\n",
    "            Y_topic.append(line.replace('\\n',''))\n",
    "    Y_topic = np.array(Y_topic)"
   ]
  },
  {
   "cell_type": "code",
   "execution_count": 4,
   "metadata": {
    "collapsed": true
   },
   "outputs": [],
   "source": [
    "bolezni = pd.read_csv('../parse-html/bolezni.csv')\n",
    "X_categ = []\n",
    "for i in bolezni['topics']:\n",
    "    toks = i.split(' $ ')\n",
    "    X_categ.append(toks[0])\n",
    "X_categ = np.array(X_categ)\n",
    "\n",
    "name2topic = {}\n",
    "for i in range(X_topic.shape[0]):\n",
    "    name2topic[str(Y_topic[i])] = str(X_categ[i])\n",
    "\n",
    "del X_categ"
   ]
  },
  {
   "cell_type": "code",
   "execution_count": null,
   "metadata": {
    "collapsed": true
   },
   "outputs": [],
   "source": []
  },
  {
   "cell_type": "code",
   "execution_count": 5,
   "metadata": {
    "collapsed": true
   },
   "outputs": [],
   "source": [
    "name2vector = {}\n",
    "for i in range(X_topic.shape[0]):\n",
    "    name2vector[str(Y_topic[i])] = X_topic[i]"
   ]
  },
  {
   "cell_type": "code",
   "execution_count": 6,
   "metadata": {
    "collapsed": true
   },
   "outputs": [],
   "source": [
    "siamese_data = pd.read_csv('siamese_data.csv')"
   ]
  },
  {
   "cell_type": "code",
   "execution_count": 7,
   "metadata": {},
   "outputs": [
    {
     "data": {
      "text/plain": [
       "(60105, 3)"
      ]
     },
     "execution_count": 7,
     "metadata": {},
     "output_type": "execute_result"
    }
   ],
   "source": [
    "siamese_data.shape"
   ]
  },
  {
   "cell_type": "code",
   "execution_count": 8,
   "metadata": {},
   "outputs": [
    {
     "data": {
      "text/html": [
       "<div>\n",
       "<style>\n",
       "    .dataframe thead tr:only-child th {\n",
       "        text-align: right;\n",
       "    }\n",
       "\n",
       "    .dataframe thead th {\n",
       "        text-align: left;\n",
       "    }\n",
       "\n",
       "    .dataframe tbody tr th {\n",
       "        vertical-align: top;\n",
       "    }\n",
       "</style>\n",
       "<table border=\"1\" class=\"dataframe\">\n",
       "  <thead>\n",
       "    <tr style=\"text-align: right;\">\n",
       "      <th></th>\n",
       "      <th>name1</th>\n",
       "      <th>name2</th>\n",
       "      <th>target</th>\n",
       "    </tr>\n",
       "  </thead>\n",
       "  <tbody>\n",
       "    <tr>\n",
       "      <th>0</th>\n",
       "      <td>Трепетание предсердий</td>\n",
       "      <td>Сочетанные пороки сердца</td>\n",
       "      <td>1</td>\n",
       "    </tr>\n",
       "    <tr>\n",
       "      <th>1</th>\n",
       "      <td>Синдром WPW</td>\n",
       "      <td>Трепетание предсердий</td>\n",
       "      <td>1</td>\n",
       "    </tr>\n",
       "    <tr>\n",
       "      <th>2</th>\n",
       "      <td>Сердечная астма</td>\n",
       "      <td>Гемоперикард</td>\n",
       "      <td>1</td>\n",
       "    </tr>\n",
       "    <tr>\n",
       "      <th>3</th>\n",
       "      <td>Гемоперикард</td>\n",
       "      <td>Постинфарктная стенокардия</td>\n",
       "      <td>1</td>\n",
       "    </tr>\n",
       "    <tr>\n",
       "      <th>4</th>\n",
       "      <td>Общий артериальный ствол</td>\n",
       "      <td>Артериальная гипертензия</td>\n",
       "      <td>1</td>\n",
       "    </tr>\n",
       "  </tbody>\n",
       "</table>\n",
       "</div>"
      ],
      "text/plain": [
       "                      name1                       name2  target\n",
       "0     Трепетание предсердий    Сочетанные пороки сердца       1\n",
       "1               Синдром WPW       Трепетание предсердий       1\n",
       "2           Сердечная астма                Гемоперикард       1\n",
       "3              Гемоперикард  Постинфарктная стенокардия       1\n",
       "4  Общий артериальный ствол    Артериальная гипертензия       1"
      ]
     },
     "execution_count": 8,
     "metadata": {},
     "output_type": "execute_result"
    }
   ],
   "source": [
    "siamese_data.head()"
   ]
  },
  {
   "cell_type": "code",
   "execution_count": null,
   "metadata": {
    "collapsed": true
   },
   "outputs": [],
   "source": []
  },
  {
   "cell_type": "markdown",
   "metadata": {},
   "source": [
    "## Data"
   ]
  },
  {
   "cell_type": "code",
   "execution_count": 9,
   "metadata": {
    "collapsed": true
   },
   "outputs": [],
   "source": [
    "emb_size = 250"
   ]
  },
  {
   "cell_type": "code",
   "execution_count": 10,
   "metadata": {
    "collapsed": true
   },
   "outputs": [],
   "source": [
    "X = np.zeros((siamese_data.shape[0], 2, emb_size))\n",
    "y = np.array(siamese_data['target'].values)"
   ]
  },
  {
   "cell_type": "code",
   "execution_count": 11,
   "metadata": {
    "collapsed": true
   },
   "outputs": [],
   "source": [
    "for d, i in siamese_data.iterrows():\n",
    "    X[d, 0, :] = name2vector[i[0]]\n",
    "    X[d, 1, :] = name2vector[i[1]]"
   ]
  },
  {
   "cell_type": "code",
   "execution_count": 12,
   "metadata": {
    "collapsed": true
   },
   "outputs": [],
   "source": [
    "X_train, X_test, y_train, y_test = train_test_split(X, y, test_size=0.33, random_state=42, stratify=y)"
   ]
  },
  {
   "cell_type": "code",
   "execution_count": 13,
   "metadata": {},
   "outputs": [
    {
     "data": {
      "text/plain": [
       "((40270, 2, 250), (19835, 2, 250), (40270,), (19835,))"
      ]
     },
     "execution_count": 13,
     "metadata": {},
     "output_type": "execute_result"
    }
   ],
   "source": [
    "X_train.shape, X_test.shape, y_train.shape, y_test.shape"
   ]
  },
  {
   "cell_type": "code",
   "execution_count": 14,
   "metadata": {},
   "outputs": [
    {
     "data": {
      "text/plain": [
       "(array([37881,  2389]), array([18659,  1176]))"
      ]
     },
     "execution_count": 14,
     "metadata": {},
     "output_type": "execute_result"
    }
   ],
   "source": [
    "np.bincount(y_train), np.bincount(y_test)"
   ]
  },
  {
   "cell_type": "code",
   "execution_count": null,
   "metadata": {
    "collapsed": true
   },
   "outputs": [],
   "source": []
  },
  {
   "cell_type": "markdown",
   "metadata": {},
   "source": [
    "## Model"
   ]
  },
  {
   "cell_type": "code",
   "execution_count": 16,
   "metadata": {
    "collapsed": true
   },
   "outputs": [],
   "source": [
    "def euclidean_distance(vects):\n",
    "    x, y = vects\n",
    "    return K.sqrt(K.maximum(K.sum(K.square(x - y), axis=1, keepdims=True), K.epsilon()))\n",
    "\n",
    "def eucl_dist_output_shape(shapes):\n",
    "    shape1, shape2 = shapes\n",
    "    return (shape1[0], 1)\n",
    "\n",
    "def contrastive_loss(y_true, y_pred):\n",
    "    margin = 1\n",
    "    return K.mean(y_true * K.square(y_pred) +\n",
    "                  (1 - y_true) * K.square(K.maximum(margin - y_pred, 0)))"
   ]
  },
  {
   "cell_type": "code",
   "execution_count": 17,
   "metadata": {
    "collapsed": true
   },
   "outputs": [],
   "source": [
    "def create_base_network(input_shape):\n",
    "    input = Input(shape=input_shape)\n",
    "    x = Dense(176, activation='relu')(input)\n",
    "    x = Dropout(0.1)(x)\n",
    "    x = Dense(128, activation='relu', name=\"embedding_layer\")(x)\n",
    "    return Model(input, x)"
   ]
  },
  {
   "cell_type": "code",
   "execution_count": 18,
   "metadata": {
    "collapsed": true
   },
   "outputs": [],
   "source": [
    "def compute_accuracy(y_true, y_pred):\n",
    "    pred = y_pred.ravel() < 0.5\n",
    "    return np.mean(pred == y_true)\n",
    "\n",
    "def accuracy(y_true, y_pred):\n",
    "    return K.mean(K.equal(y_true, K.cast(y_pred < 0.5, y_true.dtype)))"
   ]
  },
  {
   "cell_type": "code",
   "execution_count": 19,
   "metadata": {
    "collapsed": true
   },
   "outputs": [],
   "source": [
    "input_shape = (250,)\n",
    "base_network = create_base_network(input_shape)\n",
    "\n",
    "input_a = Input(shape=input_shape)\n",
    "input_b = Input(shape=input_shape)\n",
    "\n",
    "processed_a = base_network(input_a)\n",
    "processed_b = base_network(input_b)\n",
    "\n",
    "distance = Lambda(euclidean_distance,\n",
    "                  output_shape=eucl_dist_output_shape)([processed_a, processed_b])\n",
    "\n",
    "model = Model([input_a, input_b], distance)"
   ]
  },
  {
   "cell_type": "code",
   "execution_count": 20,
   "metadata": {
    "collapsed": true
   },
   "outputs": [],
   "source": [
    "rms = RMSprop()\n",
    "model.compile(loss=contrastive_loss, optimizer=rms, metrics=[accuracy])"
   ]
  },
  {
   "cell_type": "code",
   "execution_count": null,
   "metadata": {
    "collapsed": true
   },
   "outputs": [],
   "source": []
  },
  {
   "cell_type": "code",
   "execution_count": 21,
   "metadata": {
    "scrolled": true
   },
   "outputs": [
    {
     "name": "stdout",
     "output_type": "stream",
     "text": [
      "Train on 40270 samples, validate on 19835 samples\n",
      "Epoch 1/50\n",
      "40270/40270 [==============================] - 2s - loss: 0.0479 - accuracy: 0.9429 - val_loss: 0.0374 - val_accuracy: 0.9505\n",
      "Epoch 2/50\n",
      "40270/40270 [==============================] - 2s - loss: 0.0381 - accuracy: 0.9479 - val_loss: 0.0329 - val_accuracy: 0.9592\n",
      "Epoch 3/50\n",
      "40270/40270 [==============================] - 2s - loss: 0.0327 - accuracy: 0.9546 - val_loss: 0.0296 - val_accuracy: 0.9650\n",
      "Epoch 4/50\n",
      "40270/40270 [==============================] - 2s - loss: 0.0291 - accuracy: 0.9585 - val_loss: 0.0259 - val_accuracy: 0.9683\n",
      "Epoch 5/50\n",
      "40270/40270 [==============================] - 2s - loss: 0.0266 - accuracy: 0.9635 - val_loss: 0.0239 - val_accuracy: 0.9690\n",
      "Epoch 6/50\n",
      "40270/40270 [==============================] - 2s - loss: 0.0247 - accuracy: 0.9673 - val_loss: 0.0229 - val_accuracy: 0.9708\n",
      "Epoch 7/50\n",
      "40270/40270 [==============================] - 2s - loss: 0.0227 - accuracy: 0.9704 - val_loss: 0.0229 - val_accuracy: 0.9746\n",
      "Epoch 8/50\n",
      "40270/40270 [==============================] - 2s - loss: 0.0213 - accuracy: 0.9725 - val_loss: 0.0214 - val_accuracy: 0.9768\n",
      "Epoch 9/50\n",
      "40270/40270 [==============================] - 3s - loss: 0.0203 - accuracy: 0.9743 - val_loss: 0.0197 - val_accuracy: 0.9771\n",
      "Epoch 10/50\n",
      "40270/40270 [==============================] - 2s - loss: 0.0190 - accuracy: 0.9772 - val_loss: 0.0194 - val_accuracy: 0.9758\n",
      "Epoch 11/50\n",
      "40270/40270 [==============================] - 2s - loss: 0.0182 - accuracy: 0.9781 - val_loss: 0.0184 - val_accuracy: 0.9782\n",
      "Epoch 12/50\n",
      "40270/40270 [==============================] - 2s - loss: 0.0171 - accuracy: 0.9796 - val_loss: 0.0198 - val_accuracy: 0.9782\n",
      "Epoch 13/50\n",
      "40270/40270 [==============================] - 2s - loss: 0.0166 - accuracy: 0.9802 - val_loss: 0.0178 - val_accuracy: 0.9777\n",
      "Epoch 14/50\n",
      "40270/40270 [==============================] - 3s - loss: 0.0159 - accuracy: 0.9815 - val_loss: 0.0170 - val_accuracy: 0.9791\n",
      "Epoch 15/50\n",
      "40270/40270 [==============================] - 2s - loss: 0.0153 - accuracy: 0.9828 - val_loss: 0.0173 - val_accuracy: 0.9806\n",
      "Epoch 16/50\n",
      "40270/40270 [==============================] - 2s - loss: 0.0147 - accuracy: 0.9835 - val_loss: 0.0166 - val_accuracy: 0.9811\n",
      "Epoch 17/50\n",
      "40270/40270 [==============================] - 2s - loss: 0.0141 - accuracy: 0.9842 - val_loss: 0.0156 - val_accuracy: 0.9819\n",
      "Epoch 18/50\n",
      "40270/40270 [==============================] - 2s - loss: 0.0139 - accuracy: 0.9844 - val_loss: 0.0178 - val_accuracy: 0.9807\n",
      "Epoch 19/50\n",
      "40270/40270 [==============================] - 2s - loss: 0.0137 - accuracy: 0.9848 - val_loss: 0.0148 - val_accuracy: 0.9839\n",
      "Epoch 20/50\n",
      "40270/40270 [==============================] - 2s - loss: 0.0127 - accuracy: 0.9856 - val_loss: 0.0158 - val_accuracy: 0.9822\n",
      "Epoch 21/50\n",
      "40270/40270 [==============================] - 2s - loss: 0.0125 - accuracy: 0.9866 - val_loss: 0.0144 - val_accuracy: 0.9838\n",
      "Epoch 22/50\n",
      "40270/40270 [==============================] - 3s - loss: 0.0122 - accuracy: 0.9872 - val_loss: 0.0141 - val_accuracy: 0.9846\n",
      "Epoch 23/50\n",
      "40270/40270 [==============================] - 3s - loss: 0.0118 - accuracy: 0.9876 - val_loss: 0.0136 - val_accuracy: 0.9855\n",
      "Epoch 24/50\n",
      "40270/40270 [==============================] - 3s - loss: 0.0117 - accuracy: 0.9878 - val_loss: 0.0142 - val_accuracy: 0.9842\n",
      "Epoch 25/50\n",
      "40270/40270 [==============================] - 2s - loss: 0.0111 - accuracy: 0.9887 - val_loss: 0.0147 - val_accuracy: 0.9839\n",
      "Epoch 26/50\n",
      "40270/40270 [==============================] - 2s - loss: 0.0110 - accuracy: 0.9882 - val_loss: 0.0135 - val_accuracy: 0.9858\n",
      "Epoch 27/50\n",
      "40270/40270 [==============================] - 3s - loss: 0.0109 - accuracy: 0.9886 - val_loss: 0.0142 - val_accuracy: 0.9844\n",
      "Epoch 28/50\n",
      "40270/40270 [==============================] - 3s - loss: 0.0105 - accuracy: 0.9895 - val_loss: 0.0137 - val_accuracy: 0.9856\n",
      "Epoch 29/50\n",
      "40270/40270 [==============================] - 3s - loss: 0.0105 - accuracy: 0.9894 - val_loss: 0.0134 - val_accuracy: 0.9848\n",
      "Epoch 30/50\n",
      "40270/40270 [==============================] - 3s - loss: 0.0100 - accuracy: 0.9902 - val_loss: 0.0140 - val_accuracy: 0.9837\n",
      "Epoch 31/50\n",
      "40270/40270 [==============================] - 3s - loss: 0.0099 - accuracy: 0.9899 - val_loss: 0.0129 - val_accuracy: 0.9870\n",
      "Epoch 32/50\n",
      "40270/40270 [==============================] - 3s - loss: 0.0096 - accuracy: 0.9908 - val_loss: 0.0129 - val_accuracy: 0.9862\n",
      "Epoch 33/50\n",
      "40270/40270 [==============================] - 3s - loss: 0.0097 - accuracy: 0.9901 - val_loss: 0.0133 - val_accuracy: 0.9856\n",
      "Epoch 34/50\n",
      "40270/40270 [==============================] - 3s - loss: 0.0094 - accuracy: 0.9908 - val_loss: 0.0127 - val_accuracy: 0.9873\n",
      "Epoch 35/50\n",
      "40270/40270 [==============================] - 3s - loss: 0.0092 - accuracy: 0.9914 - val_loss: 0.0118 - val_accuracy: 0.9880\n",
      "Epoch 36/50\n",
      "40270/40270 [==============================] - 3s - loss: 0.0091 - accuracy: 0.9917 - val_loss: 0.0135 - val_accuracy: 0.9866\n",
      "Epoch 37/50\n",
      "40270/40270 [==============================] - 3s - loss: 0.0088 - accuracy: 0.9918 - val_loss: 0.0125 - val_accuracy: 0.9869\n",
      "Epoch 38/50\n",
      "40270/40270 [==============================] - 3s - loss: 0.0087 - accuracy: 0.9919 - val_loss: 0.0130 - val_accuracy: 0.9865\n",
      "Epoch 39/50\n",
      "40270/40270 [==============================] - 3s - loss: 0.0085 - accuracy: 0.9921 - val_loss: 0.0118 - val_accuracy: 0.9876\n",
      "Epoch 40/50\n",
      "40270/40270 [==============================] - 3s - loss: 0.0085 - accuracy: 0.9923 - val_loss: 0.0141 - val_accuracy: 0.9856\n",
      "Epoch 41/50\n",
      "40270/40270 [==============================] - 3s - loss: 0.0085 - accuracy: 0.9917 - val_loss: 0.0120 - val_accuracy: 0.9882\n",
      "Epoch 42/50\n",
      "40270/40270 [==============================] - 3s - loss: 0.0086 - accuracy: 0.9921 - val_loss: 0.0123 - val_accuracy: 0.9874\n",
      "Epoch 43/50\n",
      "40270/40270 [==============================] - 2s - loss: 0.0083 - accuracy: 0.9923 - val_loss: 0.0125 - val_accuracy: 0.9872\n",
      "Epoch 44/50\n",
      "40270/40270 [==============================] - 3s - loss: 0.0079 - accuracy: 0.9930 - val_loss: 0.0143 - val_accuracy: 0.9853\n",
      "Epoch 45/50\n",
      "40270/40270 [==============================] - 2s - loss: 0.0081 - accuracy: 0.9927 - val_loss: 0.0132 - val_accuracy: 0.9883\n",
      "Epoch 46/50\n",
      "40270/40270 [==============================] - 3s - loss: 0.0076 - accuracy: 0.9933 - val_loss: 0.0117 - val_accuracy: 0.9885\n",
      "Epoch 47/50\n",
      "40270/40270 [==============================] - 2s - loss: 0.0076 - accuracy: 0.9934 - val_loss: 0.0118 - val_accuracy: 0.9877\n",
      "Epoch 48/50\n",
      "40270/40270 [==============================] - 3s - loss: 0.0075 - accuracy: 0.9935 - val_loss: 0.0112 - val_accuracy: 0.9888\n",
      "Epoch 49/50\n",
      "40270/40270 [==============================] - 3s - loss: 0.0074 - accuracy: 0.9933 - val_loss: 0.0111 - val_accuracy: 0.9883\n",
      "Epoch 50/50\n",
      "40270/40270 [==============================] - 3s - loss: 0.0076 - accuracy: 0.9933 - val_loss: 0.0110 - val_accuracy: 0.9895\n"
     ]
    }
   ],
   "source": [
    "history = model.fit([X_train[:, 0, :], X_train[:, 1, :]], y_train,\n",
    "                      batch_size=128,\n",
    "                      epochs=50,\n",
    "                      validation_data=([X_test[:, 0, :], X_test[:, 1, :]], y_test))"
   ]
  },
  {
   "cell_type": "code",
   "execution_count": 22,
   "metadata": {
    "collapsed": true
   },
   "outputs": [],
   "source": [
    "y_pred = model.predict([X_test[:, 0, :], X_test[:, 1, :]])"
   ]
  },
  {
   "cell_type": "code",
   "execution_count": 23,
   "metadata": {
    "collapsed": true
   },
   "outputs": [],
   "source": [
    "y_pred_np = y_pred.ravel() < 0.5"
   ]
  },
  {
   "cell_type": "code",
   "execution_count": 24,
   "metadata": {},
   "outputs": [
    {
     "name": "stdout",
     "output_type": "stream",
     "text": [
      "             precision    recall  f1-score   support\n",
      "\n",
      "          0       0.99      1.00      0.99     18659\n",
      "          1       0.96      0.86      0.91      1176\n",
      "\n",
      "avg / total       0.99      0.99      0.99     19835\n",
      "\n"
     ]
    }
   ],
   "source": [
    "print(classification_report(y_test, y_pred_np))"
   ]
  },
  {
   "cell_type": "code",
   "execution_count": null,
   "metadata": {
    "collapsed": true
   },
   "outputs": [],
   "source": []
  },
  {
   "cell_type": "code",
   "execution_count": 25,
   "metadata": {},
   "outputs": [
    {
     "data": {
      "image/png": "[encoded data removed]",
      "text/plain": [
       "<matplotlib.figure.Figure at 0x11b05a470>"
      ]
     },
     "metadata": {},
     "output_type": "display_data"
    }
   ],
   "source": [
    "plt.plot(range(len(history.history['loss'])), history.history['loss'])\n",
    "plt.show()"
   ]
  },
  {
   "cell_type": "code",
   "execution_count": 26,
   "metadata": {},
   "outputs": [
    {
     "data": {
      "image/png": "[encoded data removed]",
      "text/plain": [
       "<matplotlib.figure.Figure at 0x11bf4a588>"
      ]
     },
     "metadata": {},
     "output_type": "display_data"
    }
   ],
   "source": [
    "plt.plot(range(len(history.history['loss'])), history.history['val_loss'])\n",
    "plt.show()"
   ]
  },
  {
   "cell_type": "code",
   "execution_count": 27,
   "metadata": {},
   "outputs": [
    {
     "data": {
      "image/png": "[encoded data removed]",
      "text/plain": [
       "<matplotlib.figure.Figure at 0x11c1569b0>"
      ]
     },
     "metadata": {},
     "output_type": "display_data"
    }
   ],
   "source": [
    "plt.plot(range(len(history.history['loss'])), history.history['accuracy'])\n",
    "plt.show()"
   ]
  },
  {
   "cell_type": "code",
   "execution_count": 28,
   "metadata": {},
   "outputs": [
    {
     "data": {
      "image/png": "[encoded data removed]",
      "text/plain": [
       "<matplotlib.figure.Figure at 0x11c29ec18>"
      ]
     },
     "metadata": {},
     "output_type": "display_data"
    }
   ],
   "source": [
    "plt.plot(range(len(history.history['loss'])), history.history['val_accuracy'])\n",
    "plt.show()"
   ]
  },
  {
   "cell_type": "code",
   "execution_count": null,
   "metadata": {
    "collapsed": true
   },
   "outputs": [],
   "source": []
  },
  {
   "cell_type": "markdown",
   "metadata": {},
   "source": [
    "## Test"
   ]
  },
  {
   "cell_type": "code",
   "execution_count": 29,
   "metadata": {},
   "outputs": [
    {
     "data": {
      "text/plain": [
       "array(['Hallux valgus', 'HELLP-синдром', 'Абдоминальная мигрень', ...,\n",
       "       'Ячмень на веке', 'Ячмень у ребенка', 'Ящур'], dtype='<U59')"
      ]
     },
     "execution_count": 29,
     "metadata": {},
     "output_type": "execute_result"
    }
   ],
   "source": [
    "Y_topic"
   ]
  },
  {
   "cell_type": "code",
   "execution_count": null,
   "metadata": {
    "collapsed": true
   },
   "outputs": [],
   "source": []
  },
  {
   "cell_type": "code",
   "execution_count": 30,
   "metadata": {
    "collapsed": true
   },
   "outputs": [],
   "source": [
    "test = np.zeros((1, 2, emb_size))"
   ]
  },
  {
   "cell_type": "code",
   "execution_count": 31,
   "metadata": {
    "collapsed": true
   },
   "outputs": [],
   "source": [
    "a = name2vector['Артроз голеностопного сустава']\n",
    "b = name2vector['Артроз плечевого сустава']\n",
    "test[0, 0, :] = a\n",
    "test[0, 1, :] = b"
   ]
  },
  {
   "cell_type": "code",
   "execution_count": 32,
   "metadata": {},
   "outputs": [
    {
     "data": {
      "text/plain": [
       "array([[0.10410519]], dtype=float32)"
      ]
     },
     "execution_count": 32,
     "metadata": {},
     "output_type": "execute_result"
    }
   ],
   "source": [
    "model.predict([test[:, 0, :], test[:, 1, :]])"
   ]
  },
  {
   "cell_type": "code",
   "execution_count": 33,
   "metadata": {},
   "outputs": [
    {
     "data": {
      "text/html": [
       "<div>\n",
       "<style>\n",
       "    .dataframe thead tr:only-child th {\n",
       "        text-align: right;\n",
       "    }\n",
       "\n",
       "    .dataframe thead th {\n",
       "        text-align: left;\n",
       "    }\n",
       "\n",
       "    .dataframe tbody tr th {\n",
       "        vertical-align: top;\n",
       "    }\n",
       "</style>\n",
       "<table border=\"1\" class=\"dataframe\">\n",
       "  <thead>\n",
       "    <tr style=\"text-align: right;\">\n",
       "      <th></th>\n",
       "      <th>name1</th>\n",
       "      <th>name2</th>\n",
       "      <th>target</th>\n",
       "    </tr>\n",
       "  </thead>\n",
       "  <tbody>\n",
       "    <tr>\n",
       "      <th>13186</th>\n",
       "      <td>Кровотечение при беременности</td>\n",
       "      <td>Аллергический хейлит</td>\n",
       "      <td>0</td>\n",
       "    </tr>\n",
       "    <tr>\n",
       "      <th>6509</th>\n",
       "      <td>Брюшной тиф</td>\n",
       "      <td>Ксантоматоз</td>\n",
       "      <td>0</td>\n",
       "    </tr>\n",
       "    <tr>\n",
       "      <th>7703</th>\n",
       "      <td>Злоупотребление анаболическими стероидами</td>\n",
       "      <td>Алкогольная энцефалопатия</td>\n",
       "      <td>1</td>\n",
       "    </tr>\n",
       "    <tr>\n",
       "      <th>31155</th>\n",
       "      <td>Синдром Веста</td>\n",
       "      <td>Сепсис</td>\n",
       "      <td>0</td>\n",
       "    </tr>\n",
       "    <tr>\n",
       "      <th>29176</th>\n",
       "      <td>Нарколепсия</td>\n",
       "      <td>Заворот века</td>\n",
       "      <td>0</td>\n",
       "    </tr>\n",
       "  </tbody>\n",
       "</table>\n",
       "</div>"
      ],
      "text/plain": [
       "                                           name1                      name2  \\\n",
       "13186              Кровотечение при беременности       Аллергический хейлит   \n",
       "6509                                 Брюшной тиф                Ксантоматоз   \n",
       "7703   Злоупотребление анаболическими стероидами  Алкогольная энцефалопатия   \n",
       "31155                              Синдром Веста                     Сепсис   \n",
       "29176                                Нарколепсия               Заворот века   \n",
       "\n",
       "       target  \n",
       "13186       0  \n",
       "6509        0  \n",
       "7703        1  \n",
       "31155       0  \n",
       "29176       0  "
      ]
     },
     "execution_count": 33,
     "metadata": {},
     "output_type": "execute_result"
    }
   ],
   "source": [
    "siamese_data.sample(5)"
   ]
  },
  {
   "cell_type": "code",
   "execution_count": null,
   "metadata": {
    "collapsed": true
   },
   "outputs": [],
   "source": []
  },
  {
   "cell_type": "code",
   "execution_count": 34,
   "metadata": {
    "collapsed": true
   },
   "outputs": [],
   "source": [
    "def getClosestDis(dis_name, model, Y_topic, emb_size, cnt):\n",
    "    test = np.zeros((len(Y_topic), 2, emb_size))\n",
    "    for ind, i in enumerate(Y_topic):\n",
    "        test[ind, 0, :] = name2vector[dis_name]\n",
    "        test[ind, 1, :] = name2vector[i]\n",
    "        \n",
    "    score = model.predict([test[:, 0, :], test[:, 1, :]]).ravel()\n",
    "    indexs = np.argsort(np.array(score))\n",
    "    \n",
    "    res = [(Y_topic[i]) for i in indexs[1:cnt+1]]\n",
    "    return res"
   ]
  },
  {
   "cell_type": "code",
   "execution_count": null,
   "metadata": {
    "collapsed": true
   },
   "outputs": [],
   "source": []
  },
  {
   "cell_type": "code",
   "execution_count": 35,
   "metadata": {},
   "outputs": [
    {
     "data": {
      "text/plain": [
       "('Болезни ОДС и травмы', 'Болезни ОДС и травмы')"
      ]
     },
     "execution_count": 35,
     "metadata": {},
     "output_type": "execute_result"
    }
   ],
   "source": [
    "name2topic['Артроз плечевого сустава'], name2topic['Переломы костей предплечья']"
   ]
  },
  {
   "cell_type": "code",
   "execution_count": 36,
   "metadata": {},
   "outputs": [
    {
     "data": {
      "text/plain": [
       "[('Болезни ОДС и травмы', 'Хронический синовит'),\n",
       " ('Болезни ОДС и травмы', 'Острый периостит'),\n",
       " ('Болезни ОДС и травмы', 'Эпикондилит'),\n",
       " ('Болезни ОДС и травмы', 'Болезнь де Кервена'),\n",
       " ('Болезни ОДС и травмы', 'Рассекающий остеохондрит'),\n",
       " ('Болезни ОДС и травмы', 'Артроз голеностопного сустава'),\n",
       " ('Болезни ОДС и травмы', 'Артроз'),\n",
       " ('Болезни ОДС и травмы', 'Стенозирующий лигаментит'),\n",
       " ('Болезни ОДС и травмы', 'Деформации конечностей'),\n",
       " ('Болезни ОДС и травмы', 'Тендинит плечевого сустава')]"
      ]
     },
     "execution_count": 36,
     "metadata": {},
     "output_type": "execute_result"
    }
   ],
   "source": [
    "[(name2topic[i], i) for i in getClosestDis('Артроз плечевого сустава', model, Y_topic, emb_size, 10)]"
   ]
  },
  {
   "cell_type": "code",
   "execution_count": null,
   "metadata": {
    "collapsed": true
   },
   "outputs": [],
   "source": []
  },
  {
   "cell_type": "code",
   "execution_count": 37,
   "metadata": {
    "collapsed": true
   },
   "outputs": [],
   "source": [
    "def cos_sim(a, b):\n",
    "    dot_product = np.dot(a, b)\n",
    "    norm_a = np.linalg.norm(a)\n",
    "    norm_b = np.linalg.norm(b)\n",
    "    return dot_product / (norm_a * norm_b)"
   ]
  },
  {
   "cell_type": "code",
   "execution_count": 38,
   "metadata": {
    "collapsed": true
   },
   "outputs": [],
   "source": [
    "def getSim(vec, cnt):\n",
    "    sim = []\n",
    "    for i in X_topic:\n",
    "        sim.append(cos_sim(vec, i))\n",
    "    indexs = np.argsort(np.array(sim))\n",
    "    \n",
    "    res = [(Y_topic[i]) for i in indexs[-cnt:]]\n",
    "    return list(reversed(res))"
   ]
  },
  {
   "cell_type": "code",
   "execution_count": 39,
   "metadata": {},
   "outputs": [
    {
     "data": {
      "text/plain": [
       "[('Болезни ОДС и травмы', 'Артроз плечевого сустава'),\n",
       " ('Болезни ОДС и травмы', 'Артроз'),\n",
       " ('Болезни ОДС и травмы', 'Артроз голеностопного сустава'),\n",
       " ('Болезни ОДС и травмы', 'Гонартроз'),\n",
       " ('Болезни ОДС и травмы', 'Коксартроз'),\n",
       " ('Болезни ОДС и травмы', 'Болезнь Пертеса'),\n",
       " ('Болезни ОДС и травмы', 'Посттравматический артроз'),\n",
       " ('Болезни ОДС и травмы', 'Поясничный спондилоартроз'),\n",
       " ('Болезни ОДС и травмы', 'Рассекающий остеохондрит'),\n",
       " ('Болезни ОДС и травмы', 'Тендинит коленного сустава')]"
      ]
     },
     "execution_count": 39,
     "metadata": {},
     "output_type": "execute_result"
    }
   ],
   "source": [
    "[(name2topic[i], i) for i in getSim(name2vector['Артроз плечевого сустава'], 10)]"
   ]
  },
  {
   "cell_type": "code",
   "execution_count": null,
   "metadata": {
    "collapsed": true
   },
   "outputs": [],
   "source": []
  },
  {
   "cell_type": "code",
   "execution_count": 40,
   "metadata": {},
   "outputs": [
    {
     "data": {
      "text/plain": [
       "[<keras.engine.topology.InputLayer at 0x11b39c198>,\n",
       " <keras.engine.topology.InputLayer at 0x11be805f8>,\n",
       " <keras.engine.training.Model at 0x11c55a978>,\n",
       " <keras.layers.core.Lambda at 0x11be8e7b8>]"
      ]
     },
     "execution_count": 40,
     "metadata": {},
     "output_type": "execute_result"
    }
   ],
   "source": [
    "model.layers"
   ]
  },
  {
   "cell_type": "code",
   "execution_count": 41,
   "metadata": {
    "collapsed": true
   },
   "outputs": [],
   "source": [
    "intermediate_layer_model = Model(inputs=model.input,\n",
    "                                    outputs=model.get_layer('lambda_1').output)"
   ]
  },
  {
   "cell_type": "code",
   "execution_count": 42,
   "metadata": {},
   "outputs": [
    {
     "name": "stdout",
     "output_type": "stream",
     "text": [
      "[[0.10410519]]\n"
     ]
    }
   ],
   "source": [
    "intermediate_output = intermediate_layer_model.predict([test[:, 0, :], test[:, 1, :]])\n",
    "print(intermediate_output)"
   ]
  },
  {
   "cell_type": "code",
   "execution_count": null,
   "metadata": {
    "collapsed": true
   },
   "outputs": [],
   "source": []
  },
  {
   "cell_type": "code",
   "execution_count": 43,
   "metadata": {
    "collapsed": true
   },
   "outputs": [],
   "source": [
    "get_3rd_layer_output = K.function([input_a, input_b] + [K.learning_phase()], \n",
    "                                  [processed_a, processed_b])"
   ]
  },
  {
   "cell_type": "code",
   "execution_count": 47,
   "metadata": {
    "collapsed": true
   },
   "outputs": [],
   "source": [
    "tmp = [test[:, 0, :], test[:, 1, :]]"
   ]
  },
  {
   "cell_type": "code",
   "execution_count": 48,
   "metadata": {},
   "outputs": [
    {
     "ename": "ValueError",
     "evalue": "Cannot feed value of shape (2, 1, 250) for Tensor 'input_2:0', which has shape '(?, 250)'",
     "output_type": "error",
     "traceback": [
      "\u001b[0;31m---------------------------------------------------------------------------\u001b[0m",
      "\u001b[0;31mValueError\u001b[0m                                Traceback (most recent call last)",
      "\u001b[0;32m<ipython-input-48-0d92ad37ade8>\u001b[0m in \u001b[0;36m<module>\u001b[0;34m()\u001b[0m\n\u001b[0;32m----> 1\u001b[0;31m \u001b[0mlayer_outs\u001b[0m \u001b[0;34m=\u001b[0m \u001b[0mget_3rd_layer_output\u001b[0m\u001b[0;34m(\u001b[0m\u001b[0;34m[\u001b[0m\u001b[0mtmp\u001b[0m\u001b[0;34m,\u001b[0m \u001b[0;36m0\u001b[0m\u001b[0;34m]\u001b[0m\u001b[0;34m)\u001b[0m\u001b[0;34m\u001b[0m\u001b[0m\n\u001b[0m",
      "\u001b[0;32m~/.virtualenvs/ml/lib/python3.6/site-packages/keras/backend/tensorflow_backend.py\u001b[0m in \u001b[0;36m__call__\u001b[0;34m(self, inputs)\u001b[0m\n\u001b[1;32m   2271\u001b[0m         updated = session.run(self.outputs + [self.updates_op],\n\u001b[1;32m   2272\u001b[0m                               \u001b[0mfeed_dict\u001b[0m\u001b[0;34m=\u001b[0m\u001b[0mfeed_dict\u001b[0m\u001b[0;34m,\u001b[0m\u001b[0;34m\u001b[0m\u001b[0m\n\u001b[0;32m-> 2273\u001b[0;31m                               **self.session_kwargs)\n\u001b[0m\u001b[1;32m   2274\u001b[0m         \u001b[0;32mreturn\u001b[0m \u001b[0mupdated\u001b[0m\u001b[0;34m[\u001b[0m\u001b[0;34m:\u001b[0m\u001b[0mlen\u001b[0m\u001b[0;34m(\u001b[0m\u001b[0mself\u001b[0m\u001b[0;34m.\u001b[0m\u001b[0moutputs\u001b[0m\u001b[0;34m)\u001b[0m\u001b[0;34m]\u001b[0m\u001b[0;34m\u001b[0m\u001b[0m\n\u001b[1;32m   2275\u001b[0m \u001b[0;34m\u001b[0m\u001b[0m\n",
      "\u001b[0;32m~/.virtualenvs/ml/lib/python3.6/site-packages/tensorflow/python/client/session.py\u001b[0m in \u001b[0;36mrun\u001b[0;34m(self, fetches, feed_dict, options, run_metadata)\u001b[0m\n\u001b[1;32m    893\u001b[0m     \u001b[0;32mtry\u001b[0m\u001b[0;34m:\u001b[0m\u001b[0;34m\u001b[0m\u001b[0m\n\u001b[1;32m    894\u001b[0m       result = self._run(None, fetches, feed_dict, options_ptr,\n\u001b[0;32m--> 895\u001b[0;31m                          run_metadata_ptr)\n\u001b[0m\u001b[1;32m    896\u001b[0m       \u001b[0;32mif\u001b[0m \u001b[0mrun_metadata\u001b[0m\u001b[0;34m:\u001b[0m\u001b[0;34m\u001b[0m\u001b[0m\n\u001b[1;32m    897\u001b[0m         \u001b[0mproto_data\u001b[0m \u001b[0;34m=\u001b[0m \u001b[0mtf_session\u001b[0m\u001b[0;34m.\u001b[0m\u001b[0mTF_GetBuffer\u001b[0m\u001b[0;34m(\u001b[0m\u001b[0mrun_metadata_ptr\u001b[0m\u001b[0;34m)\u001b[0m\u001b[0;34m\u001b[0m\u001b[0m\n",
      "\u001b[0;32m~/.virtualenvs/ml/lib/python3.6/site-packages/tensorflow/python/client/session.py\u001b[0m in \u001b[0;36m_run\u001b[0;34m(self, handle, fetches, feed_dict, options, run_metadata)\u001b[0m\n\u001b[1;32m   1098\u001b[0m                 \u001b[0;34m'Cannot feed value of shape %r for Tensor %r, '\u001b[0m\u001b[0;34m\u001b[0m\u001b[0m\n\u001b[1;32m   1099\u001b[0m                 \u001b[0;34m'which has shape %r'\u001b[0m\u001b[0;34m\u001b[0m\u001b[0m\n\u001b[0;32m-> 1100\u001b[0;31m                 % (np_val.shape, subfeed_t.name, str(subfeed_t.get_shape())))\n\u001b[0m\u001b[1;32m   1101\u001b[0m           \u001b[0;32mif\u001b[0m \u001b[0;32mnot\u001b[0m \u001b[0mself\u001b[0m\u001b[0;34m.\u001b[0m\u001b[0mgraph\u001b[0m\u001b[0;34m.\u001b[0m\u001b[0mis_feedable\u001b[0m\u001b[0;34m(\u001b[0m\u001b[0msubfeed_t\u001b[0m\u001b[0;34m)\u001b[0m\u001b[0;34m:\u001b[0m\u001b[0;34m\u001b[0m\u001b[0m\n\u001b[1;32m   1102\u001b[0m             \u001b[0;32mraise\u001b[0m \u001b[0mValueError\u001b[0m\u001b[0;34m(\u001b[0m\u001b[0;34m'Tensor %s may not be fed.'\u001b[0m \u001b[0;34m%\u001b[0m \u001b[0msubfeed_t\u001b[0m\u001b[0;34m)\u001b[0m\u001b[0;34m\u001b[0m\u001b[0m\n",
      "\u001b[0;31mValueError\u001b[0m: Cannot feed value of shape (2, 1, 250) for Tensor 'input_2:0', which has shape '(?, 250)'"
     ]
    }
   ],
   "source": [
    "layer_outs = get_3rd_layer_output([tmp, 0])"
   ]
  },
  {
   "cell_type": "code",
   "execution_count": null,
   "metadata": {
    "collapsed": true
   },
   "outputs": [],
   "source": []
  },
  {
   "cell_type": "code",
   "execution_count": 45,
   "metadata": {},
   "outputs": [
    {
     "name": "stdout",
     "output_type": "stream",
     "text": [
      "_________________________________________________________________\n",
      "Layer (type)                 Output Shape              Param #   \n",
      "=================================================================\n",
      "input_1 (InputLayer)         (None, 250)               0         \n",
      "_________________________________________________________________\n",
      "dense_1 (Dense)              (None, 176)               44176     \n",
      "_________________________________________________________________\n",
      "dropout_1 (Dropout)          (None, 176)               0         \n",
      "_________________________________________________________________\n",
      "embedding_layer (Dense)      (None, 128)               22656     \n",
      "=================================================================\n",
      "Total params: 66,832\n",
      "Trainable params: 66,832\n",
      "Non-trainable params: 0\n",
      "_________________________________________________________________\n"
     ]
    }
   ],
   "source": [
    "model.layers[2].summary()"
   ]
  },
  {
   "cell_type": "code",
   "execution_count": 46,
   "metadata": {},
   "outputs": [
    {
     "name": "stdout",
     "output_type": "stream",
     "text": [
      "____________________________________________________________________________________________________\n",
      "Layer (type)                     Output Shape          Param #     Connected to                     \n",
      "====================================================================================================\n",
      "input_2 (InputLayer)             (None, 250)           0                                            \n",
      "____________________________________________________________________________________________________\n",
      "input_3 (InputLayer)             (None, 250)           0                                            \n",
      "____________________________________________________________________________________________________\n",
      "model_1 (Model)                  (None, 128)           66832       input_2[0][0]                    \n",
      "                                                                   input_3[0][0]                    \n",
      "____________________________________________________________________________________________________\n",
      "lambda_1 (Lambda)                (None, 1)             0           model_1[1][0]                    \n",
      "                                                                   model_1[2][0]                    \n",
      "====================================================================================================\n",
      "Total params: 66,832\n",
      "Trainable params: 66,832\n",
      "Non-trainable params: 0\n",
      "____________________________________________________________________________________________________\n"
     ]
    }
   ],
   "source": [
    "model.summary()"
   ]
  },
  {
   "cell_type": "code",
   "execution_count": null,
   "metadata": {
    "collapsed": true
   },
   "outputs": [],
   "source": []
  }
 ],
 "metadata": {
  "kernelspec": {
   "display_name": "Python3 (ml)",
   "language": "python",
   "name": "ml"
  },
  "language_info": {
   "codemirror_mode": {
    "name": "ipython",
    "version": 3
   },
   "file_extension": ".py",
   "mimetype": "text/x-python",
   "name": "python",
   "nbconvert_exporter": "python",
   "pygments_lexer": "ipython3",
   "version": "3.6.0"
  }
 },
 "nbformat": 4,
 "nbformat_minor": 2
}

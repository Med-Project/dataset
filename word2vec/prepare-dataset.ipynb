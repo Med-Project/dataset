{
 "cells": [
  {
   "cell_type": "code",
   "execution_count": 1,
   "metadata": {
    "collapsed": true
   },
   "outputs": [],
   "source": [
    "import os\n",
    "import pandas as pd\n",
    "import numpy as np"
   ]
  },
  {
   "cell_type": "code",
   "execution_count": 2,
   "metadata": {},
   "outputs": [
    {
     "name": "stdout",
     "output_type": "stream",
     "text": [
      "load from .txt file\n"
     ]
    }
   ],
   "source": [
    "X = []\n",
    "Y = []\n",
    "\n",
    "X_path = 'topic_vectors.txt'\n",
    "Y_path = 'topic_names.txt'\n",
    "\n",
    "if(os.path.isfile(X_path) and os.path.isfile(Y_path)):\n",
    "    print('load from .txt file')\n",
    "    X = np.loadtxt(X_path)\n",
    "    with open(Y_path, 'r') as f:\n",
    "        for line in f.readlines():\n",
    "            Y.append(line.replace('\\n',''))\n",
    "    Y = np.array(Y)"
   ]
  },
  {
   "cell_type": "code",
   "execution_count": 3,
   "metadata": {
    "collapsed": true
   },
   "outputs": [],
   "source": [
    "bolezni = pd.read_csv('../parse-html/bolezni.csv')"
   ]
  },
  {
   "cell_type": "code",
   "execution_count": 4,
   "metadata": {
    "collapsed": true
   },
   "outputs": [],
   "source": [
    "X_categ = []\n",
    "for i in bolezni['topics']:\n",
    "    toks = i.split(' $ ')\n",
    "    X_categ.append(toks[0])\n",
    "X_categ = np.array(X_categ)"
   ]
  },
  {
   "cell_type": "code",
   "execution_count": null,
   "metadata": {
    "collapsed": true
   },
   "outputs": [],
   "source": []
  },
  {
   "cell_type": "code",
   "execution_count": 5,
   "metadata": {
    "collapsed": true
   },
   "outputs": [],
   "source": [
    "name2vector = {}\n",
    "for i in range(X.shape[0]):\n",
    "    name2vector[str(Y[i])] = X[i]"
   ]
  },
  {
   "cell_type": "code",
   "execution_count": null,
   "metadata": {
    "collapsed": true
   },
   "outputs": [],
   "source": []
  },
  {
   "cell_type": "code",
   "execution_count": 6,
   "metadata": {
    "collapsed": true
   },
   "outputs": [],
   "source": [
    "name2topic = {}\n",
    "for i in range(X.shape[0]):\n",
    "    name2topic[str(Y[i])] = str(X_categ[i])"
   ]
  },
  {
   "cell_type": "code",
   "execution_count": 7,
   "metadata": {
    "collapsed": true
   },
   "outputs": [],
   "source": [
    "topic_set = {}\n",
    "for i in range(X.shape[0]):\n",
    "    tmpk = str(X_categ[i])\n",
    "    if(tmpk not in topic_set.keys()):\n",
    "        topic_set[tmpk] = []\n",
    "    topic_set[tmpk].append(str(Y[i]))"
   ]
  },
  {
   "cell_type": "code",
   "execution_count": null,
   "metadata": {
    "collapsed": true
   },
   "outputs": [],
   "source": []
  },
  {
   "cell_type": "code",
   "execution_count": 8,
   "metadata": {
    "collapsed": true
   },
   "outputs": [],
   "source": [
    "pairs_X = []\n",
    "for f_topic in set(X_categ):\n",
    "    for s_topic in set(X_categ):\n",
    "        fir_set = topic_set[f_topic]\n",
    "        sec_set = topic_set[s_topic]\n",
    "        cnt = 0\n",
    "        num = min(len(fir_set), len(sec_set))\n",
    "        is_eq = 0\n",
    "        if(f_topic == s_topic):\n",
    "            is_eq = 1\n",
    "        while(cnt < num):\n",
    "            fir_ind = np.random.randint(0, len(fir_set))\n",
    "            sec_ind = np.random.randint(0, len(sec_set))\n",
    "            if(fir_set[fir_ind] == sec_set[sec_ind]):\n",
    "                continue\n",
    "            pairs_X.append([fir_set[fir_ind], sec_set[sec_ind], is_eq])\n",
    "            cnt += 1"
   ]
  },
  {
   "cell_type": "code",
   "execution_count": 9,
   "metadata": {},
   "outputs": [
    {
     "data": {
      "text/plain": [
       "60105"
      ]
     },
     "execution_count": 9,
     "metadata": {},
     "output_type": "execute_result"
    }
   ],
   "source": [
    "len(pairs_X)"
   ]
  },
  {
   "cell_type": "code",
   "execution_count": null,
   "metadata": {
    "collapsed": true
   },
   "outputs": [],
   "source": []
  },
  {
   "cell_type": "code",
   "execution_count": 10,
   "metadata": {},
   "outputs": [
    {
     "data": {
      "text/plain": [
       "('Болезни ОДС и травмы', 'Болезни ОДС и травмы')"
      ]
     },
     "execution_count": 10,
     "metadata": {},
     "output_type": "execute_result"
    }
   ],
   "source": [
    "name2topic['Оскольчатый перелом'], name2topic['Ушиб пальца']"
   ]
  },
  {
   "cell_type": "code",
   "execution_count": 11,
   "metadata": {
    "collapsed": true
   },
   "outputs": [],
   "source": [
    "cnt = 0\n",
    "for i in pairs_X:\n",
    "    t = 1\n",
    "    if(name2topic[i[0]] != name2topic[i[1]]):\n",
    "        t = 0\n",
    "    if(t != i[2]):\n",
    "        cnt += 1"
   ]
  },
  {
   "cell_type": "code",
   "execution_count": 12,
   "metadata": {},
   "outputs": [
    {
     "data": {
      "text/plain": [
       "0"
      ]
     },
     "execution_count": 12,
     "metadata": {},
     "output_type": "execute_result"
    }
   ],
   "source": [
    "cnt"
   ]
  },
  {
   "cell_type": "code",
   "execution_count": 13,
   "metadata": {},
   "outputs": [
    {
     "data": {
      "text/plain": [
       "array([56540,  3565])"
      ]
     },
     "execution_count": 13,
     "metadata": {},
     "output_type": "execute_result"
    }
   ],
   "source": [
    "np.bincount([i[2] for i in pairs_X])"
   ]
  },
  {
   "cell_type": "code",
   "execution_count": null,
   "metadata": {
    "collapsed": true
   },
   "outputs": [],
   "source": []
  },
  {
   "cell_type": "code",
   "execution_count": 14,
   "metadata": {
    "collapsed": true
   },
   "outputs": [],
   "source": [
    "siamese_data = pd.DataFrame()\n",
    "siamese_data['name1'] = [pairs_X[i][0] for i in range(len(pairs_X))]\n",
    "siamese_data['name2'] = [pairs_X[i][1] for i in range(len(pairs_X))]\n",
    "siamese_data['target'] = [pairs_X[i][2] for i in range(len(pairs_X))]"
   ]
  },
  {
   "cell_type": "code",
   "execution_count": 15,
   "metadata": {},
   "outputs": [
    {
     "data": {
      "text/plain": [
       "(60105, 3)"
      ]
     },
     "execution_count": 15,
     "metadata": {},
     "output_type": "execute_result"
    }
   ],
   "source": [
    "siamese_data.shape"
   ]
  },
  {
   "cell_type": "code",
   "execution_count": 16,
   "metadata": {},
   "outputs": [
    {
     "data": {
      "text/html": [
       "<div>\n",
       "<style>\n",
       "    .dataframe thead tr:only-child th {\n",
       "        text-align: right;\n",
       "    }\n",
       "\n",
       "    .dataframe thead th {\n",
       "        text-align: left;\n",
       "    }\n",
       "\n",
       "    .dataframe tbody tr th {\n",
       "        vertical-align: top;\n",
       "    }\n",
       "</style>\n",
       "<table border=\"1\" class=\"dataframe\">\n",
       "  <thead>\n",
       "    <tr style=\"text-align: right;\">\n",
       "      <th></th>\n",
       "      <th>name1</th>\n",
       "      <th>name2</th>\n",
       "      <th>target</th>\n",
       "    </tr>\n",
       "  </thead>\n",
       "  <tbody>\n",
       "    <tr>\n",
       "      <th>0</th>\n",
       "      <td>Трепетание предсердий</td>\n",
       "      <td>Сочетанные пороки сердца</td>\n",
       "      <td>1</td>\n",
       "    </tr>\n",
       "    <tr>\n",
       "      <th>1</th>\n",
       "      <td>Синдром WPW</td>\n",
       "      <td>Трепетание предсердий</td>\n",
       "      <td>1</td>\n",
       "    </tr>\n",
       "    <tr>\n",
       "      <th>2</th>\n",
       "      <td>Сердечная астма</td>\n",
       "      <td>Гемоперикард</td>\n",
       "      <td>1</td>\n",
       "    </tr>\n",
       "    <tr>\n",
       "      <th>3</th>\n",
       "      <td>Гемоперикард</td>\n",
       "      <td>Постинфарктная стенокардия</td>\n",
       "      <td>1</td>\n",
       "    </tr>\n",
       "    <tr>\n",
       "      <th>4</th>\n",
       "      <td>Общий артериальный ствол</td>\n",
       "      <td>Артериальная гипертензия</td>\n",
       "      <td>1</td>\n",
       "    </tr>\n",
       "  </tbody>\n",
       "</table>\n",
       "</div>"
      ],
      "text/plain": [
       "                      name1                       name2  target\n",
       "0     Трепетание предсердий    Сочетанные пороки сердца       1\n",
       "1               Синдром WPW       Трепетание предсердий       1\n",
       "2           Сердечная астма                Гемоперикард       1\n",
       "3              Гемоперикард  Постинфарктная стенокардия       1\n",
       "4  Общий артериальный ствол    Артериальная гипертензия       1"
      ]
     },
     "execution_count": 16,
     "metadata": {},
     "output_type": "execute_result"
    }
   ],
   "source": [
    "siamese_data.head()"
   ]
  },
  {
   "cell_type": "code",
   "execution_count": 17,
   "metadata": {
    "collapsed": true
   },
   "outputs": [],
   "source": [
    "# siamese_data.to_csv('siamese_data.csv', index=False)"
   ]
  },
  {
   "cell_type": "code",
   "execution_count": null,
   "metadata": {
    "collapsed": true
   },
   "outputs": [],
   "source": []
  }
 ],
 "metadata": {
  "kernelspec": {
   "display_name": "Python3 (ml)",
   "language": "python",
   "name": "ml"
  },
  "language_info": {
   "codemirror_mode": {
    "name": "ipython",
    "version": 3
   },
   "file_extension": ".py",
   "mimetype": "text/x-python",
   "name": "python",
   "nbconvert_exporter": "python",
   "pygments_lexer": "ipython3",
   "version": "3.6.0"
  }
 },
 "nbformat": 4,
 "nbformat_minor": 2
}
